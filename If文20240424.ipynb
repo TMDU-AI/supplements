{
  "nbformat": 4,
  "nbformat_minor": 0,
  "metadata": {
    "colab": {
      "provenance": [],
      "include_colab_link": true
    },
    "kernelspec": {
      "name": "python3",
      "display_name": "Python 3"
    },
    "language_info": {
      "name": "python"
    }
  },
  "cells": [
    {
      "cell_type": "markdown",
      "metadata": {
        "id": "view-in-github",
        "colab_type": "text"
      },
      "source": [
        "<a href=\"https://colab.research.google.com/github/TMDU-AI/supplements/blob/main/If%E6%96%8720240424.ipynb\" target=\"_parent\"><img src=\"https://colab.research.google.com/assets/colab-badge.svg\" alt=\"Open In Colab\"/></a>"
      ]
    },
    {
      "cell_type": "markdown",
      "source": [
        "# 基本的なif文の構造"
      ],
      "metadata": {
        "id": "heyaYfmC979f"
      }
    },
    {
      "cell_type": "markdown",
      "source": [
        "Pythonにおけるif文の基本的な構造は以下の通りです。"
      ],
      "metadata": {
        "id": "OGDOU0E39-tD"
      }
    },
    {
      "cell_type": "markdown",
      "source": [
        "\n",
        "\n",
        "```\n",
        "if 条件式:\n",
        "    # 条件式がTrueの場合に実行されるブロック\n",
        "    実行するコード\n",
        "else:\n",
        "    # 条件式がFalseの場合に実行されるブロック\n",
        "    実行するコード\n",
        "```\n",
        "\n"
      ],
      "metadata": {
        "id": "CcE9a1mL-BmX"
      }
    },
    {
      "cell_type": "markdown",
      "source": [
        "**数値の比較**"
      ],
      "metadata": {
        "id": "6Ktr0thT-G2Y"
      }
    },
    {
      "cell_type": "markdown",
      "source": [
        "例として、ある数値が10より大きいかどうかを判定するプログラムを書いてみましょう。"
      ],
      "metadata": {
        "id": "d5D7M33W-KcR"
      }
    },
    {
      "cell_type": "code",
      "execution_count": null,
      "metadata": {
        "colab": {
          "base_uri": "https://localhost:8080/"
        },
        "id": "IbK2Dd2591FI",
        "outputId": "a5eb2d5e-fde3-4d62-d32c-d2b561c8e683"
      },
      "outputs": [
        {
          "output_type": "stream",
          "name": "stdout",
          "text": [
            "数値は10より大きいです。\n"
          ]
        }
      ],
      "source": [
        "# 数値を設定\n",
        "number = 12\n",
        "\n",
        "# if文を使用して数値を比較\n",
        "if number > 10:\n",
        "    # 条件がTrueの場合、以下のコードが実行される\n",
        "    print(\"数値は10より大きいです。\")\n",
        "else:\n",
        "    # 条件がFalseの場合、以下のコードが実行される\n",
        "    print(\"数値は10以下です。\")\n"
      ]
    },
    {
      "cell_type": "markdown",
      "source": [
        "このコードは、number が10より大きいかどうかを評価し、結果に応じて異なるメッセージを出力します。"
      ],
      "metadata": {
        "id": "qsNf39f--O5A"
      }
    },
    {
      "cell_type": "markdown",
      "source": [
        "**文字列の比較**"
      ],
      "metadata": {
        "id": "4HP2isSA-SHQ"
      }
    },
    {
      "cell_type": "markdown",
      "source": [
        "次に、ユーザーの入力した文字列が特定の値と一致するかどうかを判定する例を見てみましょう。"
      ],
      "metadata": {
        "id": "XMYbRbZR-UQb"
      }
    },
    {
      "cell_type": "code",
      "source": [
        "# ユーザーからの入力を受け取る\n",
        "user_input = input(\"好きな果物を入力してください: \")\n",
        "\n",
        "# if文で文字列を比較\n",
        "if user_input == \"りんご\":\n",
        "    # 条件がTrueの場合のアクション\n",
        "    print(\"りんごが好きなんですね！\")\n",
        "else:\n",
        "    # 条件がFalseの場合のアクション\n",
        "    print(\"あなたが好きな果物は\", user_input, \"ですね。\")\n"
      ],
      "metadata": {
        "colab": {
          "base_uri": "https://localhost:8080/"
        },
        "id": "6zh3X9qD92Bt",
        "outputId": "86e4484e-6554-4736-ba84-efb931168955"
      },
      "execution_count": null,
      "outputs": [
        {
          "output_type": "stream",
          "name": "stdout",
          "text": [
            "好きな果物を入力してください: りんご\n",
            "りんごが好きなんですね！\n"
          ]
        }
      ]
    },
    {
      "cell_type": "markdown",
      "source": [
        "このスクリプトでは、ユーザーが「りんご」と入力した場合のみ特定のメッセージが出力され、それ以外の場合はユーザーの入力をそのまま出力します。"
      ],
      "metadata": {
        "id": "Em5RtBEx-dBt"
      }
    },
    {
      "cell_type": "markdown",
      "source": [
        "これらの基本的な例を通じて、if文の使い方を理解することができます。各例はシンプルですが、if文を使用する際の基本的なパターンと流れを示しています。"
      ],
      "metadata": {
        "id": "DhjEogw_-dg6"
      }
    },
    {
      "cell_type": "markdown",
      "source": [
        "**elifを使用する**"
      ],
      "metadata": {
        "id": "4LmUJYWE-hsE"
      }
    },
    {
      "cell_type": "markdown",
      "source": [
        "elif（エルス・イフ）は「それ以外で、もし〜だったら」という意味で、複数の条件分岐を一つのif文の中で扱いたい場合に使用します。"
      ],
      "metadata": {
        "id": "k4HFnWB--ls9"
      }
    },
    {
      "cell_type": "markdown",
      "source": [
        "複数の条件分岐"
      ],
      "metadata": {
        "id": "5f31Y7wR-pUg"
      }
    },
    {
      "cell_type": "code",
      "source": [
        "# 年齢に基づいて異なるメッセージを出力する\n",
        "age = 25\n",
        "\n",
        "if age < 18:\n",
        "    print(\"あなたは未成年です。\")\n",
        "elif age < 65:\n",
        "    print(\"あなたは成人です。\")\n",
        "else:\n",
        "    print(\"あなたは高齢者です。\")\n"
      ],
      "metadata": {
        "colab": {
          "base_uri": "https://localhost:8080/"
        },
        "id": "nyPRDniG91_h",
        "outputId": "aebe57b2-55d1-4cd9-a9e4-c0eb2defbef4"
      },
      "execution_count": null,
      "outputs": [
        {
          "output_type": "stream",
          "name": "stdout",
          "text": [
            "あなたは成人です。\n"
          ]
        }
      ]
    },
    {
      "cell_type": "markdown",
      "source": [
        "このコードは、年齢が18未満、18以上65未満、65以上で異なるメッセージを出力します。"
      ],
      "metadata": {
        "id": "PUSughAR-tgq"
      }
    },
    {
      "cell_type": "markdown",
      "source": [
        "**論理演算子の使用**"
      ],
      "metadata": {
        "id": "yvwmrlaW-wKq"
      }
    },
    {
      "cell_type": "markdown",
      "source": [
        "論理演算子 and, or, not を使用して、複数の条件を組み合わせることができます。"
      ],
      "metadata": {
        "id": "LrJcC3lq-yVG"
      }
    },
    {
      "cell_type": "markdown",
      "source": [
        "複数の条件を組み合わせる"
      ],
      "metadata": {
        "id": "NeBbosc7-0LO"
      }
    },
    {
      "cell_type": "code",
      "source": [
        "# スコアが特定の範囲内かどうかを判定する\n",
        "score = 75\n",
        "\n",
        "if score >= 90:\n",
        "    print(\"素晴らしい！\")\n",
        "elif score >= 70 and score < 90:\n",
        "    print(\"良くできました！\")\n",
        "else:\n",
        "    print(\"もっと頑張りましょう。\")\n"
      ],
      "metadata": {
        "colab": {
          "base_uri": "https://localhost:8080/"
        },
        "id": "a_rBH9y_-jPJ",
        "outputId": "cd3ac599-9d43-43ea-d779-49c1bc9b29e0"
      },
      "execution_count": null,
      "outputs": [
        {
          "output_type": "stream",
          "name": "stdout",
          "text": [
            "良くできました！\n"
          ]
        }
      ]
    },
    {
      "cell_type": "markdown",
      "source": [
        "ここでは、スコアが90以上、70以上90未満、70未満で異なるメッセージを出力しています。and 演算子は両方の条件がTrueの場合にTrueになります。"
      ],
      "metadata": {
        "id": "jnMC8aGR-6ED"
      }
    },
    {
      "cell_type": "markdown",
      "source": [
        "**真偽値を直接使う**"
      ],
      "metadata": {
        "id": "ZjBRVB-V--OT"
      }
    },
    {
      "cell_type": "markdown",
      "source": [
        "Pythonでは、真偽値（True または False）を直接if文に使用することができます。"
      ],
      "metadata": {
        "id": "3mWkXFtb-_vy"
      }
    },
    {
      "cell_type": "markdown",
      "source": [
        "真偽値を利用する"
      ],
      "metadata": {
        "id": "kizpjIXL_CvZ"
      }
    },
    {
      "cell_type": "code",
      "source": [
        "# フラグを使用して特定の処理を制御する\n",
        "flag = True\n",
        "\n",
        "if flag:\n",
        "    print(\"フラグはTrueです。\")\n",
        "else:\n",
        "    print(\"フラグはFalseです。\")\n"
      ],
      "metadata": {
        "colab": {
          "base_uri": "https://localhost:8080/"
        },
        "id": "0fA93Kox-jTK",
        "outputId": "6617be14-937e-4986-aa3d-e30812cc6575"
      },
      "execution_count": null,
      "outputs": [
        {
          "output_type": "stream",
          "name": "stdout",
          "text": [
            "フラグはTrueです。\n"
          ]
        }
      ]
    },
    {
      "cell_type": "markdown",
      "source": [
        "このコードは、flag の値が True の場合と False の場合で異なるアクションを取ります。"
      ],
      "metadata": {
        "id": "dQfd0unt_HNm"
      }
    },
    {
      "cell_type": "markdown",
      "source": [
        "これらの例を通じて、Pythonのif文をより効果的に使いこなす方法を学べます。さまざまな条件や論理演算子を組み合わせることで、プログラムの柔軟性と表現力が向上します。"
      ],
      "metadata": {
        "id": "5b5cFJYm_Jo7"
      }
    },
    {
      "cell_type": "code",
      "source": [],
      "metadata": {
        "id": "RbD0j9DW-jRB"
      },
      "execution_count": null,
      "outputs": []
    },
    {
      "cell_type": "code",
      "source": [],
      "metadata": {
        "id": "KV5PC9lK919p"
      },
      "execution_count": null,
      "outputs": []
    },
    {
      "cell_type": "code",
      "source": [],
      "metadata": {
        "id": "Aoqi0jjO917e"
      },
      "execution_count": null,
      "outputs": []
    }
  ]
}