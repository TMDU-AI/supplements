{
  "nbformat": 4,
  "nbformat_minor": 0,
  "metadata": {
    "colab": {
      "provenance": [],
      "include_colab_link": true
    },
    "kernelspec": {
      "name": "python3",
      "display_name": "Python 3"
    },
    "language_info": {
      "name": "python"
    }
  },
  "cells": [
    {
      "cell_type": "markdown",
      "metadata": {
        "id": "view-in-github",
        "colab_type": "text"
      },
      "source": [
        "<a href=\"https://colab.research.google.com/github/TMDU-AI/supplements/blob/main/%E3%82%AF%E3%83%A9%E3%82%B920240424.ipynb\" target=\"_parent\"><img src=\"https://colab.research.google.com/assets/colab-badge.svg\" alt=\"Open In Colab\"/></a>"
      ]
    },
    {
      "cell_type": "markdown",
      "source": [
        "# クラス"
      ],
      "metadata": {
        "id": "TDjsqhZW8NL4"
      }
    },
    {
      "cell_type": "markdown",
      "source": [
        "クラスはオブジェクトの設計図です。属性（データ）とメソッド（機能）をまとめることで、プログラム内で使いやすくします。"
      ],
      "metadata": {
        "id": "2zyvs1cw8U7c"
      }
    },
    {
      "cell_type": "markdown",
      "source": [
        "\n",
        "\n",
        "```\n",
        "class ClassName:\n",
        "    # クラスの構造定義\n",
        "    pass\n",
        "```\n",
        "\n"
      ],
      "metadata": {
        "id": "tV8W40RM8uyE"
      }
    },
    {
      "cell_type": "markdown",
      "source": [
        "**シンプルなクラスの作成**"
      ],
      "metadata": {
        "id": "gcV3_XnX8y4S"
      }
    },
    {
      "cell_type": "markdown",
      "source": [
        "最も基本的なクラスは何も操作を行わない pass ステートメントを使用して定義されます"
      ],
      "metadata": {
        "id": "5k_kXyIo80Nm"
      }
    },
    {
      "cell_type": "code",
      "source": [
        "class Simple:\n",
        "    pass"
      ],
      "metadata": {
        "id": "F6sL-E4B8URk"
      },
      "execution_count": null,
      "outputs": []
    },
    {
      "cell_type": "markdown",
      "source": [
        "何も中身のないPenクラスとBookクラスを少しずつ改変しながら説明していきます。"
      ],
      "metadata": {
        "id": "3jJOHQBmHRi3"
      }
    },
    {
      "cell_type": "code",
      "source": [
        "class Pen:\n",
        "    pass"
      ],
      "metadata": {
        "id": "7jT8k14n9R2I"
      },
      "execution_count": null,
      "outputs": []
    },
    {
      "cell_type": "code",
      "source": [
        "class Book:\n",
        "    pass"
      ],
      "metadata": {
        "id": "RFe1Ryfh9c12"
      },
      "execution_count": null,
      "outputs": []
    },
    {
      "cell_type": "markdown",
      "source": [
        "# クラスのインスタンス作成"
      ],
      "metadata": {
        "id": "MU1CZi9Y9BtA"
      }
    },
    {
      "cell_type": "markdown",
      "source": [
        "クラスから具体的なオブジェクト（インスタンス）を生成するプロセスです。"
      ],
      "metadata": {
        "id": "-hfMboD19DAJ"
      }
    },
    {
      "cell_type": "markdown",
      "source": [
        "ペンのインスタンス作成"
      ],
      "metadata": {
        "id": "D7IOkCoi9Xzs"
      }
    },
    {
      "cell_type": "code",
      "source": [
        "pen1 = Pen()\n",
        "pen2 = Pen()"
      ],
      "metadata": {
        "id": "zpnTOJDR8Umd"
      },
      "execution_count": null,
      "outputs": []
    },
    {
      "cell_type": "markdown",
      "source": [
        "本のインスタンス作成"
      ],
      "metadata": {
        "id": "AahbxsQd9ffQ"
      }
    },
    {
      "cell_type": "code",
      "source": [
        "book1 = Book()\n",
        "book2 = Book()"
      ],
      "metadata": {
        "id": "52wc0YVP8UkR"
      },
      "execution_count": null,
      "outputs": []
    },
    {
      "cell_type": "markdown",
      "source": [
        "**属性とメソッド**"
      ],
      "metadata": {
        "id": "BuxrzJBg9jt4"
      }
    },
    {
      "cell_type": "markdown",
      "source": [
        "**属性の追加**"
      ],
      "metadata": {
        "id": "tZFhB6Qm9l54"
      }
    },
    {
      "cell_type": "markdown",
      "source": [
        "クラスにデータを保存するための変数を追加することができます。"
      ],
      "metadata": {
        "id": "4vDwPl9M9pKR"
      }
    },
    {
      "cell_type": "markdown",
      "source": [
        "ペンに色とブランドの属性を追加"
      ],
      "metadata": {
        "id": "EwM_27cg9rHS"
      }
    },
    {
      "cell_type": "code",
      "source": [
        "class Pen:\n",
        "    color = \"blue\"\n",
        "    brand = \"Pilot\""
      ],
      "metadata": {
        "id": "5os0_X8I8UiF"
      },
      "execution_count": null,
      "outputs": []
    },
    {
      "cell_type": "markdown",
      "source": [
        "本にタイトルと著者の属性を追加"
      ],
      "metadata": {
        "id": "GF9O2Rar9uYC"
      }
    },
    {
      "cell_type": "code",
      "source": [
        "class Book:\n",
        "    title = \"1984\"\n",
        "    author = \"George Orwell\""
      ],
      "metadata": {
        "id": "U__j3Z1L8UgO"
      },
      "execution_count": null,
      "outputs": []
    },
    {
      "cell_type": "markdown",
      "source": [
        "**インスタンスの属性へのアクセス**"
      ],
      "metadata": {
        "id": "Swo3K3XD9zAR"
      }
    },
    {
      "cell_type": "markdown",
      "source": [
        "生成されたインスタンスを通じて、クラスの属性にアクセスします。"
      ],
      "metadata": {
        "id": "pl1njArJ92Lv"
      }
    },
    {
      "cell_type": "markdown",
      "source": [
        "ペンの属性にアクセス"
      ],
      "metadata": {
        "id": "gTu82Kwv933h"
      }
    },
    {
      "cell_type": "code",
      "source": [
        "pen1 = Pen()\n",
        "print(pen1.color)  # blue\n",
        "print(pen1.brand)  # Pilot"
      ],
      "metadata": {
        "colab": {
          "base_uri": "https://localhost:8080/"
        },
        "id": "xIk8eZIK8UeB",
        "outputId": "b78a0fd6-3606-4d7c-88e0-6796f37ead58"
      },
      "execution_count": null,
      "outputs": [
        {
          "output_type": "stream",
          "name": "stdout",
          "text": [
            "blue\n",
            "Pilot\n"
          ]
        }
      ]
    },
    {
      "cell_type": "markdown",
      "source": [
        "本の属性にアクセス"
      ],
      "metadata": {
        "id": "aCcBUqXA97vB"
      }
    },
    {
      "cell_type": "code",
      "source": [
        "book1 = Book()\n",
        "print(book1.title)  # 1984\n",
        "print(book1.author)  # George Orwell"
      ],
      "metadata": {
        "colab": {
          "base_uri": "https://localhost:8080/"
        },
        "id": "e-aXCGTv8Ub1",
        "outputId": "bab9c8ac-6ace-4214-8fde-7e30a12bcfc1"
      },
      "execution_count": null,
      "outputs": [
        {
          "output_type": "stream",
          "name": "stdout",
          "text": [
            "1984\n",
            "George Orwell\n"
          ]
        }
      ]
    },
    {
      "cell_type": "markdown",
      "source": [
        "**メソッドの定義**"
      ],
      "metadata": {
        "id": "5DZE_4zr9_sc"
      }
    },
    {
      "cell_type": "markdown",
      "source": [
        "クラス内に関数を定義して、インスタンスが特定の動作を行えるようにします。"
      ],
      "metadata": {
        "id": "nvUnZNOy-Cge"
      }
    },
    {
      "cell_type": "markdown",
      "source": [
        "ペンに書くメソッドを追加"
      ],
      "metadata": {
        "id": "9_gz3V3F-EHR"
      }
    },
    {
      "cell_type": "code",
      "source": [
        "class Pen:\n",
        "    def write(self):\n",
        "        print(\"Writing...\")"
      ],
      "metadata": {
        "id": "zgCrdc4n8UZp"
      },
      "execution_count": null,
      "outputs": []
    },
    {
      "cell_type": "markdown",
      "source": [
        "本に読むメソッドを追加"
      ],
      "metadata": {
        "id": "7cCwNnW6-HuP"
      }
    },
    {
      "cell_type": "code",
      "source": [
        "class Book:\n",
        "    def read(self):\n",
        "        print(\"Reading...\")"
      ],
      "metadata": {
        "id": "YW8R37mQ8UXx"
      },
      "execution_count": null,
      "outputs": []
    },
    {
      "cell_type": "markdown",
      "source": [
        "**メソッドの使用**"
      ],
      "metadata": {
        "id": "XuQ1-Cuo-Lt1"
      }
    },
    {
      "cell_type": "markdown",
      "source": [
        "インスタンスを通じてクラス内のメソッドを実行します。"
      ],
      "metadata": {
        "id": "Pz0MftAE-PE4"
      }
    },
    {
      "cell_type": "markdown",
      "source": [
        "ペンで書く"
      ],
      "metadata": {
        "id": "zT3vAOvr-Qt3"
      }
    },
    {
      "cell_type": "code",
      "source": [
        "pen1 = Pen()\n",
        "pen1.write()  # Writing..."
      ],
      "metadata": {
        "colab": {
          "base_uri": "https://localhost:8080/"
        },
        "id": "zgip-6ew-Nq3",
        "outputId": "d84f8677-acb3-4c82-cbb9-93da861a279f"
      },
      "execution_count": null,
      "outputs": [
        {
          "output_type": "stream",
          "name": "stdout",
          "text": [
            "Writing...\n"
          ]
        }
      ]
    },
    {
      "cell_type": "markdown",
      "source": [
        "本を読む"
      ],
      "metadata": {
        "id": "C7QGv4uW-UPb"
      }
    },
    {
      "cell_type": "code",
      "source": [
        "book1 = Book()\n",
        "book1.read()  # Reading..."
      ],
      "metadata": {
        "colab": {
          "base_uri": "https://localhost:8080/"
        },
        "id": "gnHvF1_A-NoT",
        "outputId": "a1c90490-b27b-4319-fa2d-99b32d9ee6a8"
      },
      "execution_count": null,
      "outputs": [
        {
          "output_type": "stream",
          "name": "stdout",
          "text": [
            "Reading...\n"
          ]
        }
      ]
    },
    {
      "cell_type": "markdown",
      "source": [
        " **初期化メソッド\"______init__\"**"
      ],
      "metadata": {
        "id": "-RQqv1VT-XYs"
      }
    },
    {
      "cell_type": "markdown",
      "source": [
        "インスタンスを生成する際に自動的に呼び出されるメソッドで、インスタンスの初期化に使用します。"
      ],
      "metadata": {
        "id": "bo_2urse-2XK"
      }
    },
    {
      "cell_type": "markdown",
      "source": [
        "ペンの初期化"
      ],
      "metadata": {
        "id": "hH18tguD-4Mq"
      }
    },
    {
      "cell_type": "code",
      "source": [
        "class Pen:\n",
        "    def __init__(self, color, brand):\n",
        "        self.color = color  # インスタンス変数\n",
        "        self.brand = brand  # インスタンス変数"
      ],
      "metadata": {
        "id": "WKzXJ3xu-Nme"
      },
      "execution_count": null,
      "outputs": []
    },
    {
      "cell_type": "markdown",
      "source": [
        "本の初期化"
      ],
      "metadata": {
        "id": "9nJNWjn4-70j"
      }
    },
    {
      "cell_type": "code",
      "source": [
        "class Book:\n",
        "    def __init__(self, title, author):\n",
        "        self.title = title  # インスタンス変数\n",
        "        self.author = author  # インスタンス変数"
      ],
      "metadata": {
        "id": "3fPoUK7n-NkP"
      },
      "execution_count": null,
      "outputs": []
    },
    {
      "cell_type": "markdown",
      "source": [
        "**インスタンス変数**"
      ],
      "metadata": {
        "id": "qpQmT7DM-_nE"
      }
    },
    {
      "cell_type": "markdown",
      "source": [
        "______init__ メソッドで定義される変数は、そのインスタンスに属します。"
      ],
      "metadata": {
        "id": "y1wfgZq5_CBc"
      }
    },
    {
      "cell_type": "markdown",
      "source": [
        "ペンインスタンスの変数"
      ],
      "metadata": {
        "id": "vfCF_Cy2_IQw"
      }
    },
    {
      "cell_type": "code",
      "source": [
        "pen1 = Pen(\"blue\", \"Pilot\")\n",
        "pen2 = Pen(\"red\", \"Bic\")"
      ],
      "metadata": {
        "id": "qi0_qAqB-NiG"
      },
      "execution_count": null,
      "outputs": []
    },
    {
      "cell_type": "markdown",
      "source": [
        "本インスタンスの変数"
      ],
      "metadata": {
        "id": "qN4JAl-w_Mbq"
      }
    },
    {
      "cell_type": "code",
      "source": [
        "book1 = Book(\"1984\", \"George Orwell\")\n",
        "book2 = Book(\"Brave New World\", \"Aldous Huxley\")"
      ],
      "metadata": {
        "id": "XyWJOkCt-Nfo"
      },
      "execution_count": null,
      "outputs": []
    },
    {
      "cell_type": "markdown",
      "source": [
        "**インスタンス変数の参照**"
      ],
      "metadata": {
        "id": "Huwdv3ti_blU"
      }
    },
    {
      "cell_type": "markdown",
      "source": [
        "インスタンス変数は、インスタンスが生成された後、インスタンス名.変数名 という形式でアクセスできます。"
      ],
      "metadata": {
        "id": "fxacntmO_gBF"
      }
    },
    {
      "cell_type": "markdown",
      "source": [
        "ペンインスタンスの変数参照"
      ],
      "metadata": {
        "id": "TptMOUcN_ql_"
      }
    },
    {
      "cell_type": "code",
      "source": [
        "print(pen1.color)  # blue\n",
        "print(pen1.brand)  # Pilot\n",
        "print(pen2.color)  # red\n",
        "print(pen2.brand)  # Bic"
      ],
      "metadata": {
        "colab": {
          "base_uri": "https://localhost:8080/"
        },
        "id": "nsS0eLTG_d7E",
        "outputId": "4136b1e2-5298-4213-fdba-0d4854b53554"
      },
      "execution_count": null,
      "outputs": [
        {
          "output_type": "stream",
          "name": "stdout",
          "text": [
            "blue\n",
            "Pilot\n",
            "red\n",
            "Bic\n"
          ]
        }
      ]
    },
    {
      "cell_type": "markdown",
      "source": [
        "本インスタンスの変数参照"
      ],
      "metadata": {
        "id": "RmS_0VCA_o2t"
      }
    },
    {
      "cell_type": "code",
      "source": [
        "print(book1.title)  # 1984\n",
        "print(book1.author)  # George Orwell\n",
        "print(book2.title)  # Brave New World\n",
        "print(book2.author)  # Aldous Huxley"
      ],
      "metadata": {
        "colab": {
          "base_uri": "https://localhost:8080/"
        },
        "id": "HH7Z6nG8_eOX",
        "outputId": "73fa2283-f8c5-49cf-c1df-6ba9b60bea5b"
      },
      "execution_count": null,
      "outputs": [
        {
          "output_type": "stream",
          "name": "stdout",
          "text": [
            "1984\n",
            "George Orwell\n",
            "Brave New World\n",
            "Aldous Huxley\n"
          ]
        }
      ]
    },
    {
      "cell_type": "markdown",
      "source": [
        "このように、インスタンス変数は、それぞれのインスタンスごとに異なる値を持つことができます。"
      ],
      "metadata": {
        "id": "-Ba5SWuT_xso"
      }
    },
    {
      "cell_type": "markdown",
      "source": [
        "**クラス変数とインスタンス変数**"
      ],
      "metadata": {
        "id": "effJJOGA_27U"
      }
    },
    {
      "cell_type": "markdown",
      "source": [
        "クラス変数"
      ],
      "metadata": {
        "id": "d07Q8q-7_5dK"
      }
    },
    {
      "cell_type": "markdown",
      "source": [
        "クラス変数は、クラス定義内で全てのインスタンスに共通のデータを提供します。これは、そのクラスの全インスタンス間で共有されるため、一つのインスタンスによる変更が他の全インスタンスに影響します。"
      ],
      "metadata": {
        "id": "hLKAlLq-_7IZ"
      }
    },
    {
      "cell_type": "markdown",
      "source": [
        "ペンのクラスに共通の特性を持たせる"
      ],
      "metadata": {
        "id": "TEK-k5Sx_87Z"
      }
    },
    {
      "cell_type": "code",
      "source": [
        "class Pen:\n",
        "    made_in = \"Japan\"  # クラス変数\n",
        "\n",
        "    def __init__(self, color):\n",
        "        self.color = color  # インスタンス変数"
      ],
      "metadata": {
        "id": "hL3yTi5x_eL3"
      },
      "execution_count": null,
      "outputs": []
    },
    {
      "cell_type": "markdown",
      "source": [
        "クラス変数へのアクセス"
      ],
      "metadata": {
        "id": "bbQcmLWqAAYo"
      }
    },
    {
      "cell_type": "code",
      "source": [
        "pen1 = Pen(\"blue\")\n",
        "pen2 = Pen(\"red\")\n",
        "\n",
        "print(pen1.made_in)  # Japan\n",
        "print(pen2.made_in)  # Japan\n",
        "\n",
        "# クラス変数の変更\n",
        "Pen.made_in = \"China\"\n",
        "\n",
        "print(pen1.made_in)  # China\n",
        "print(pen2.made_in)  # China"
      ],
      "metadata": {
        "colab": {
          "base_uri": "https://localhost:8080/"
        },
        "id": "_oQM4BgB_eJv",
        "outputId": "83cfc63c-4104-4847-84b3-86e0fffc5e2b"
      },
      "execution_count": null,
      "outputs": [
        {
          "output_type": "stream",
          "name": "stdout",
          "text": [
            "Japan\n",
            "Japan\n",
            "China\n",
            "China\n"
          ]
        }
      ]
    },
    {
      "cell_type": "markdown",
      "source": [
        "**インスタンス変数**"
      ],
      "metadata": {
        "id": "PMbABCTGAGeX"
      }
    },
    {
      "cell_type": "markdown",
      "source": [
        "インスタンス変数は、クラス内の __init__ メソッドで定義され、各インスタンスが生成されるときに個別に初期化されます。これにより、各インスタンスは独自のデータを持つことができます。"
      ],
      "metadata": {
        "id": "978GLCLmAJCE"
      }
    },
    {
      "cell_type": "markdown",
      "source": [
        "本のタイトルと著者はインスタンスによって異なる"
      ],
      "metadata": {
        "id": "DUDgnmv3ALBh"
      }
    },
    {
      "cell_type": "code",
      "source": [
        "class Book:\n",
        "    library_name = \"City Library\"  # クラス変数\n",
        "\n",
        "    def __init__(self, title, author):\n",
        "        self.title = title  # インスタンス変数\n",
        "        self.author = author  # インスタンス変数"
      ],
      "metadata": {
        "id": "R5aqvLYS_eH3"
      },
      "execution_count": null,
      "outputs": []
    },
    {
      "cell_type": "markdown",
      "source": [
        "インスタンス変数へのアクセス"
      ],
      "metadata": {
        "id": "p9QJEf1jAPd7"
      }
    },
    {
      "cell_type": "code",
      "source": [
        "book1 = Book(\"1984\", \"George Orwell\")\n",
        "book2 = Book(\"Animal Farm\", \"George Orwell\")\n",
        "\n",
        "print(book1.title)  # 1984\n",
        "print(book2.title)  # Animal Farm\n",
        "\n",
        "# クラス変数へのアクセス\n",
        "print(book1.library_name)  # City Library\n",
        "print(book2.library_name)  # City Library"
      ],
      "metadata": {
        "colab": {
          "base_uri": "https://localhost:8080/"
        },
        "id": "j2l2MD3z_eFy",
        "outputId": "2a8ec0c7-97dd-4105-da3c-717b8149e4d6"
      },
      "execution_count": null,
      "outputs": [
        {
          "output_type": "stream",
          "name": "stdout",
          "text": [
            "1984\n",
            "Animal Farm\n",
            "City Library\n",
            "City Library\n"
          ]
        }
      ]
    },
    {
      "cell_type": "markdown",
      "source": [
        "このように、クラス変数は全インスタンス間で共有されるため、どのインスタンスからもアクセス可能で、その値を変更すると全インスタンスに影響します。一方で、インスタンス変数は各インスタンスに固有であり、インスタンス毎に異なる値を持つことができ、他のインスタンスに影響を与えません。これにより、データのカプセル化とオブジェクト指向プログラミングの柔軟性が実現されています。"
      ],
      "metadata": {
        "id": "Hh6EwdO7AWJt"
      }
    },
    {
      "cell_type": "markdown",
      "source": [
        "**属性とクラス変数とインスタンス変数**"
      ],
      "metadata": {
        "id": "Wc-mcvaaAbZ-"
      }
    },
    {
      "cell_type": "markdown",
      "source": [
        "属性（プロパティ）は、クラス変数とインスタンス変数の両方に当てはまる概念です。属性とは、クラスまたはそのインスタンスに関連付けられたデータのことで、クラス変数もインスタンス変数も共にクラスの属性の一部と見なされます。"
      ],
      "metadata": {
        "id": "_o9QkNP8AfYB"
      }
    },
    {
      "cell_type": "markdown",
      "source": [
        "クラス変数としての属性"
      ],
      "metadata": {
        "id": "vrv2EmX8AhvT"
      }
    },
    {
      "cell_type": "markdown",
      "source": [
        "**メソッドの引数**"
      ],
      "metadata": {
        "id": "PWGdni0AAqt-"
      }
    },
    {
      "cell_type": "markdown",
      "source": [
        "メソッドの引数は、クラスのメソッドが実行する際に外部から値を受け取るための手段です。これにより、メソッド内での処理を動的に変更し、より柔軟に機能させることが可能です。引数を使うことで、メソッドの再利用性とカスタマイズ性が高まります。"
      ],
      "metadata": {
        "id": "s4T8HzcqAtaw"
      }
    },
    {
      "cell_type": "markdown",
      "source": [
        "**クラス内で引数を受け取るメソッドの定義**"
      ],
      "metadata": {
        "id": "IqdFQwHjAxdP"
      }
    },
    {
      "cell_type": "markdown",
      "source": [
        "クラス内のメソッドに引数を定義することで、インスタンス作成時やメソッド呼び出し時に外部から値を渡すことができます。"
      ],
      "metadata": {
        "id": "yVK0CFu9AzYX"
      }
    },
    {
      "cell_type": "markdown",
      "source": [
        "車の速度を調整するメソッド"
      ],
      "metadata": {
        "id": "xqBer08yA1HA"
      }
    },
    {
      "cell_type": "code",
      "source": [
        "class Car:\n",
        "    def __init__(self, model):\n",
        "        self.model = model\n",
        "        self.speed = 0\n",
        "\n",
        "    def set_speed(self, new_speed):\n",
        "        self.speed = new_speed\n",
        "        print(f\"{self.model}の速度を{self.speed}km/hに設定しました。\")"
      ],
      "metadata": {
        "id": "axRPzx2l_eDc"
      },
      "execution_count": null,
      "outputs": []
    },
    {
      "cell_type": "markdown",
      "source": [
        "この例では、set_speed メソッドに new_speed という引数を設定しています。これにより、車のインスタンスごとに異なる速度を設定することが可能です。"
      ],
      "metadata": {
        "id": "TOPygqh2A6BX"
      }
    },
    {
      "cell_type": "markdown",
      "source": [
        "使用例"
      ],
      "metadata": {
        "id": "gU2SiktSA8e5"
      }
    },
    {
      "cell_type": "code",
      "source": [
        "my_car = Car(\"Toyota\")\n",
        "my_car.set_speed(60)  # Toyotaの速度を60km/hに設定しました。"
      ],
      "metadata": {
        "colab": {
          "base_uri": "https://localhost:8080/"
        },
        "id": "dSyTKRUxAgDJ",
        "outputId": "689c4219-9373-4d80-f9d9-311c7fab50e1"
      },
      "execution_count": null,
      "outputs": [
        {
          "output_type": "stream",
          "name": "stdout",
          "text": [
            "Toyotaの速度を60km/hに設定しました。\n"
          ]
        }
      ]
    },
    {
      "cell_type": "markdown",
      "source": [
        "**メソッドが複数の引数を受け取る場合**"
      ],
      "metadata": {
        "id": "VOIYB8AaBAfX"
      }
    },
    {
      "cell_type": "markdown",
      "source": [
        "メソッドは複数の引数を受け取ることができ、それぞれに異なるデータを渡すことができます。"
      ],
      "metadata": {
        "id": "EdDxpTGRBCkf"
      }
    },
    {
      "cell_type": "code",
      "source": [
        "class Person:\n",
        "    def __init__(self, name):\n",
        "        self.name = name\n",
        "        self.age = None\n",
        "        self.city = None\n",
        "\n",
        "    def update_profile(self, age, city):\n",
        "        self.age = age\n",
        "        self.city = city\n",
        "        print(f\"{self.name}は{self.age}歳で、{self.city}に住んでいます。\")"
      ],
      "metadata": {
        "id": "ExlXDOlj_eBP"
      },
      "execution_count": null,
      "outputs": []
    },
    {
      "cell_type": "markdown",
      "source": [
        "この例では、update_profile メソッドが age と city の2つの引数を受け取ります。これにより、個々の人物の年齢と居住地を更新することができます。"
      ],
      "metadata": {
        "id": "MWPDbVrwBGqu"
      }
    },
    {
      "cell_type": "markdown",
      "source": [
        "使用例"
      ],
      "metadata": {
        "id": "bgVdfHtRBIHO"
      }
    },
    {
      "cell_type": "code",
      "source": [
        "person = Person(\"John\")\n",
        "person.update_profile(30, \"New York\")  # Johnは30歳で、New Yorkに住んでいます。"
      ],
      "metadata": {
        "colab": {
          "base_uri": "https://localhost:8080/"
        },
        "id": "yIWO0dGa_d_G",
        "outputId": "799089d7-609b-46ec-c065-ea71cd700428"
      },
      "execution_count": null,
      "outputs": [
        {
          "output_type": "stream",
          "name": "stdout",
          "text": [
            "Johnは30歳で、New Yorkに住んでいます。\n"
          ]
        }
      ]
    },
    {
      "cell_type": "markdown",
      "source": [
        "**selfとは？**"
      ],
      "metadata": {
        "id": "Ra6cLDGkBQAK"
      }
    },
    {
      "cell_type": "markdown",
      "source": [
        "self はクラスのメソッド内で使用される変数で、そのメソッドが呼び出されたインスタンスを参照します。これにより、インスタンス固有のデータ（インスタンス変数）にアクセスしたり、同じインスタンスの他のメソッドを呼び出すことができます。"
      ],
      "metadata": {
        "id": "kyWuJ8SqBVPM"
      }
    },
    {
      "cell_type": "markdown",
      "source": [
        "**selfの使用理由**"
      ],
      "metadata": {
        "id": "eCXwMXVuBa7j"
      }
    },
    {
      "cell_type": "markdown",
      "source": [
        "Python では、クラスのメソッドが呼び出されるとき、自動的にそのインスタンスがメソッドの最初の引数として渡されます。これを明示的に表現するために self を使用します。この慣習により、メソッド内のコードがどのインスタンスに属するデータや機能を操作しているかが明確になります。"
      ],
      "metadata": {
        "id": "BTOIEkqvBeaB"
      }
    },
    {
      "cell_type": "markdown",
      "source": [
        "**selfの具体的な使用例**"
      ],
      "metadata": {
        "id": "r6Wkak-bBg0c"
      }
    },
    {
      "cell_type": "markdown",
      "source": [
        "車クラスに self を使用して属性を設定する"
      ],
      "metadata": {
        "id": "wtFCd7iBBjZx"
      }
    },
    {
      "cell_type": "code",
      "source": [
        "class Car:\n",
        "    def __init__(self, make, model):\n",
        "        self.make = make  # メーカー\n",
        "        self.model = model  # モデル\n",
        "\n",
        "    def display_info(self):\n",
        "        print(f\"This car is a {self.make} {self.model}.\")"
      ],
      "metadata": {
        "id": "Z9YUxUqG-M9Q"
      },
      "execution_count": null,
      "outputs": []
    },
    {
      "cell_type": "markdown",
      "source": [
        "この例では、__init__ メソッドと display_info メソッドの両方で self を使用しています。__init__ メソッドでは、作成されたインスタンスに make と model の属性を設定しており、display_info メソッドではそれらの属性を表示しています。"
      ],
      "metadata": {
        "id": "RtSCJfyxBnSy"
      }
    },
    {
      "cell_type": "markdown",
      "source": [
        "使用例"
      ],
      "metadata": {
        "id": "NfgmE9DhBp3Y"
      }
    },
    {
      "cell_type": "code",
      "source": [
        "my_car = Car(\"Toyota\", \"Corolla\")\n",
        "my_car.display_info()  # This car is a Toyota Corolla."
      ],
      "metadata": {
        "colab": {
          "base_uri": "https://localhost:8080/"
        },
        "id": "EQhEGyLvBpnn",
        "outputId": "9006c46d-4cc3-4043-f6bf-fb74fe93b575"
      },
      "execution_count": null,
      "outputs": [
        {
          "output_type": "stream",
          "name": "stdout",
          "text": [
            "This car is a Toyota Corolla.\n"
          ]
        }
      ]
    },
    {
      "cell_type": "markdown",
      "source": [
        "**継承 (Inheritance)**"
      ],
      "metadata": {
        "id": "4EGKHTdWB0bY"
      }
    },
    {
      "cell_type": "markdown",
      "source": [
        "継承を使用すると、既存のクラス（親クラス）の属性やメソッドを新しいクラス（子クラス）が継承できます。これにより、コードの再利用が促進され、コードの管理が容易になります。"
      ],
      "metadata": {
        "id": "6FDBqkPuB5ER"
      }
    },
    {
      "cell_type": "markdown",
      "source": [
        "まず、基本的な継承の概念を見てみましょう。"
      ],
      "metadata": {
        "id": "B4f0pzb6CIWr"
      }
    },
    {
      "cell_type": "markdown",
      "source": [
        "車両クラスの継承"
      ],
      "metadata": {
        "id": "yiYO_yAWCJ3P"
      }
    },
    {
      "cell_type": "code",
      "source": [
        "class Vehicle:\n",
        "    def __init__(self, brand, color):\n",
        "        self.brand = brand\n",
        "        self.color = color\n",
        "\n",
        "    def display(self):\n",
        "        print(f\"Brand: {self.brand}, Color: {self.color}\")\n",
        "\n",
        "# CarクラスはVehicleクラスから継承されます\n",
        "class Car(Vehicle):\n",
        "    def __init__(self, brand, color, doors):\n",
        "        super().__init__(brand, color)\n",
        "        self.doors = doors\n",
        "\n",
        "    def display(self):\n",
        "        super().display()\n",
        "        print(f\"Doors: {self.doors}\")"
      ],
      "metadata": {
        "id": "zbM6Dms28UVl"
      },
      "execution_count": null,
      "outputs": []
    },
    {
      "cell_type": "markdown",
      "source": [
        "この例では、Vehicle クラスはすべての車両に共通の属性（ブランドと色）を持っています。Car クラスはこのクラスを継承し、ドアの数という新しい属性を追加しています。super() 関数を使って、親クラスのコンストラクタとメソッドを呼び出しています。"
      ],
      "metadata": {
        "id": "Yf8nLfRhB_1Y"
      }
    },
    {
      "cell_type": "markdown",
      "source": [
        "自転車クラスの継承"
      ],
      "metadata": {
        "id": "Nc-PHbQyCQ9D"
      }
    },
    {
      "cell_type": "code",
      "source": [
        "# BicycleクラスもVehicleクラスから継承されます\n",
        "class Bicycle(Vehicle):\n",
        "    def __init__(self, brand, color, has_basket):\n",
        "        super().__init__(brand, color)\n",
        "        self.has_basket = has_basket\n",
        "\n",
        "    def display(self):\n",
        "        super().display()\n",
        "        print(f\"Has Basket: {'Yes' if self.has_basket else 'No'}\")"
      ],
      "metadata": {
        "id": "wapEz1oTBoHC"
      },
      "execution_count": null,
      "outputs": []
    },
    {
      "cell_type": "markdown",
      "source": [
        "Bicycle クラスは、自転車がバスケットを持っているかどうかという新しい属性を追加しています。これにより、Vehicle クラスの機能を拡張しつつ、新しい属性を導入しています。"
      ],
      "metadata": {
        "id": "331j_P7RCVr8"
      }
    },
    {
      "cell_type": "markdown",
      "source": [
        "使用例"
      ],
      "metadata": {
        "id": "8JeNSSEICcw8"
      }
    },
    {
      "cell_type": "code",
      "source": [
        "my_car = Car(\"Toyota\", \"Red\", 4)\n",
        "my_bike = Bicycle(\"Trek\", \"Blue\", True)\n",
        "\n",
        "my_car.display()\n",
        "my_bike.display()"
      ],
      "metadata": {
        "colab": {
          "base_uri": "https://localhost:8080/"
        },
        "id": "mxdWsSrk8UTu",
        "outputId": "cf4cf2b0-f257-4776-f18b-defa5f11a070"
      },
      "execution_count": null,
      "outputs": [
        {
          "output_type": "stream",
          "name": "stdout",
          "text": [
            "Brand: Toyota, Color: Red\n",
            "Doors: 4\n",
            "Brand: Trek, Color: Blue\n",
            "Has Basket: Yes\n"
          ]
        }
      ]
    },
    {
      "cell_type": "markdown",
      "source": [
        "**継承のsuper()**"
      ],
      "metadata": {
        "id": "jWcqYnO9CqP0"
      }
    },
    {
      "cell_type": "markdown",
      "source": [
        "継承を行う際に super() を使うかどうかは、その状況や設計の意図によって異なります。super() は親クラスのメソッドにアクセスするための関数であり、特にコンストラクタ（__init__ メソッド）やオーバーライドされたメソッドの中で、親クラスの実装を実行したい場合に非常に便利です。しかし、すべての継承が super() を必要とするわけではありません。"
      ],
      "metadata": {
        "id": "Qhrn90UPCu8r"
      }
    },
    {
      "cell_type": "markdown",
      "source": [
        "**super()を使用する場合**"
      ],
      "metadata": {
        "id": "4tFhZH_VCznd"
      }
    },
    {
      "cell_type": "markdown",
      "source": [
        "親クラスのコンストラクタを呼び出す場合： インスタンスが作成されたときに親クラスのコンストラクタを実行する必要がある場合に使用します。これにより、親クラスで定義された属性が適切に初期化されます。   \n",
        "メソッドのオーバーライド： 子クラスで親クラスのメソッドをオーバーライド（再定義）する際に、親クラスのメソッドの機能も一部利用したい場合に super() を使用して親クラスのメソッドを呼び出します。"
      ],
      "metadata": {
        "id": "tXowRvuhC4l5"
      }
    },
    {
      "cell_type": "markdown",
      "source": [
        "**super()を使用しない場合**"
      ],
      "metadata": {
        "id": "VxOruUuvDBY9"
      }
    },
    {
      "cell_type": "markdown",
      "source": [
        "親クラスのメソッドを完全に置き換える場合： 子クラスで親クラスのメソッドを完全に新しい実装で置き換えたい場合は、super() を呼び出す必要はありません。  \n",
        "独立した属性やメソッドの追加： 親クラスには影響を与えず、子クラスに新しい属性やメソッドを追加するだけの場合、super() は不要です。"
      ],
      "metadata": {
        "id": "UmVTcFHADELb"
      }
    },
    {
      "cell_type": "markdown",
      "source": [
        "super() を使用する場合"
      ],
      "metadata": {
        "id": "Po0daLZpDJL_"
      }
    },
    {
      "cell_type": "code",
      "source": [
        "class Person:\n",
        "    def __init__(self, name):\n",
        "        self.name = name\n",
        "\n",
        "class Employee(Person):\n",
        "    def __init__(self, name, employee_id):\n",
        "        super().__init__(name)  # 親クラスのコンストラクタを呼び出す\n",
        "        self.employee_id = employee_id\n",
        "\n",
        "# 使用例\n",
        "emp = Employee(\"John Doe\", \"E123\")\n",
        "print(emp.name)        # John Doe\n",
        "print(emp.employee_id) # E123"
      ],
      "metadata": {
        "colab": {
          "base_uri": "https://localhost:8080/"
        },
        "id": "NUhKQDdDBoXK",
        "outputId": "ec384805-644d-4d40-a455-b1f3eb060e88"
      },
      "execution_count": null,
      "outputs": [
        {
          "output_type": "stream",
          "name": "stdout",
          "text": [
            "John Doe\n",
            "E123\n"
          ]
        }
      ]
    },
    {
      "cell_type": "markdown",
      "source": [
        "この例では、Employee クラスは Person クラスを継承しており、Person のコンストラクタを super() を使って呼び出しています。これにより、name 属性が親クラスのコンストラクタによって適切に初期化されます。"
      ],
      "metadata": {
        "id": "BBDAjhlXDv1j"
      }
    },
    {
      "cell_type": "markdown",
      "source": [
        "super() を使用しない場合"
      ],
      "metadata": {
        "id": "WfSsVoQSDM-f"
      }
    },
    {
      "cell_type": "code",
      "source": [
        "class Animal:\n",
        "    def speak(self):\n",
        "        return \"This animal does not speak.\"\n",
        "\n",
        "class Dog(Animal):\n",
        "    def speak(self):\n",
        "        return \"Woof!\"\n",
        "\n",
        "# 使用例\n",
        "dog = Dog()\n",
        "print(dog.speak())  # Woof!"
      ],
      "metadata": {
        "colab": {
          "base_uri": "https://localhost:8080/"
        },
        "id": "KSl3uhQ7BoUy",
        "outputId": "a5267679-cc31-49e0-d118-91bfbb342c4e"
      },
      "execution_count": null,
      "outputs": [
        {
          "output_type": "stream",
          "name": "stdout",
          "text": [
            "Woof!\n"
          ]
        }
      ]
    },
    {
      "cell_type": "markdown",
      "source": [
        "この例では、Dog クラスは Animal クラスから speak メソッドを継承していますが、Animal クラスの speak メソッドの実装は完全に無視されています。Dog クラスの speak メソッドは独自の実装を提供し、super() の呼び出しが不要です。"
      ],
      "metadata": {
        "id": "pbxOJFovD65N"
      }
    },
    {
      "cell_type": "markdown",
      "source": [
        "これらの例から、super() の使用が親クラスのメソッドに依存する場合に重要であり、子クラスが親クラスのメソッドを完全に独立して再定義する場合には不要であることがわかります。これにより、継承の柔軟性と明確性を保ちつつ、コードの再利用性を高めることができます。"
      ],
      "metadata": {
        "id": "dvvBXF7TD8-u"
      }
    },
    {
      "cell_type": "markdown",
      "source": [
        "**マルチレベル継承**"
      ],
      "metadata": {
        "id": "jogXAR6wECgd"
      }
    },
    {
      "cell_type": "markdown",
      "source": [
        "Pythonでは、一つのクラスが別のクラスを継承し、そのクラスがさらに別のクラスを継承することができます。これをマルチレベル継承といいます。"
      ],
      "metadata": {
        "id": "RCT9_bD6EE3I"
      }
    },
    {
      "cell_type": "code",
      "source": [
        "class Vehicle:\n",
        "    def __init__(self, brand, color):\n",
        "        self.brand = brand\n",
        "        self.color = color\n",
        "\n",
        "    def display(self):\n",
        "        print(f\"Brand: {self.brand}, Color: {self.color}\")\n",
        "\n",
        "# BicycleクラスをVehicleクラスから継承して作成します\n",
        "class Bicycle(Vehicle):\n",
        "    def __init__(self, brand, color, has_basket):\n",
        "        super().__init__(brand, color)\n",
        "        self.has_basket = has_basket\n",
        "\n",
        "    def display(self):\n",
        "        super().display()\n",
        "        print(f\"Has Basket: {'Yes' if self.has_basket else 'No'}\")\n",
        "\n",
        "# さらにElectricBicycleクラスをBicycleクラスから継承して作成します\n",
        "class ElectricBicycle(Bicycle):\n",
        "    def __init__(self, brand, color, has_basket, battery_life):\n",
        "        super().__init__(brand, color, has_basket)\n",
        "        self.battery_life = battery_life\n",
        "\n",
        "    def display(self):\n",
        "        super().display()\n",
        "        print(f\"Battery Life: {self.battery_life} hours\")"
      ],
      "metadata": {
        "id": "LCwNh8IfBoSX"
      },
      "execution_count": null,
      "outputs": []
    },
    {
      "cell_type": "markdown",
      "source": [
        "ElectricBicycle クラスは、Bicycle クラスから継承され、電動自転車特有の属性であるバッテリー寿命を追加しています。ここでも super() を使って親クラスの機能を利用しています。"
      ],
      "metadata": {
        "id": "JULf0i6HEg1o"
      }
    },
    {
      "cell_type": "markdown",
      "source": [
        "使用例"
      ],
      "metadata": {
        "id": "1wS-1RVzEjQT"
      }
    },
    {
      "cell_type": "code",
      "source": [
        "my_bike = Bicycle(\"Trek\", \"Blue\", True)\n",
        "my_ebike = ElectricBicycle(\"Specialized\", \"Green\", True, 10)\n",
        "\n",
        "my_bike.display()\n",
        "my_ebike.display()"
      ],
      "metadata": {
        "colab": {
          "base_uri": "https://localhost:8080/"
        },
        "id": "802nDn4mBoP0",
        "outputId": "8355f673-b430-4b91-b54f-4ad0a53efa29"
      },
      "execution_count": null,
      "outputs": [
        {
          "output_type": "stream",
          "name": "stdout",
          "text": [
            "Brand: Trek, Color: Blue\n",
            "Has Basket: Yes\n",
            "Brand: Specialized, Color: Green\n",
            "Has Basket: Yes\n",
            "Battery Life: 10 hours\n"
          ]
        }
      ]
    },
    {
      "cell_type": "code",
      "source": [],
      "metadata": {
        "id": "n30w3lGoBoNm"
      },
      "execution_count": null,
      "outputs": []
    },
    {
      "cell_type": "code",
      "source": [],
      "metadata": {
        "id": "aLxNnJ52BoLp"
      },
      "execution_count": null,
      "outputs": []
    },
    {
      "cell_type": "code",
      "source": [],
      "metadata": {
        "id": "U9gdhW82BoJl"
      },
      "execution_count": null,
      "outputs": []
    },
    {
      "cell_type": "code",
      "execution_count": null,
      "metadata": {
        "id": "YZtcdLbe8Js_"
      },
      "outputs": [],
      "source": []
    }
  ]
}