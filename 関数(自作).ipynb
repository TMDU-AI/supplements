{
  "nbformat": 4,
  "nbformat_minor": 0,
  "metadata": {
    "colab": {
      "provenance": [],
      "include_colab_link": true
    },
    "kernelspec": {
      "name": "python3",
      "display_name": "Python 3"
    },
    "language_info": {
      "name": "python"
    }
  },
  "cells": [
    {
      "cell_type": "markdown",
      "metadata": {
        "id": "view-in-github",
        "colab_type": "text"
      },
      "source": [
        "<a href=\"https://colab.research.google.com/github/TMDU-AI/supplements/blob/main/%E9%96%A2%E6%95%B0(%E8%87%AA%E4%BD%9C).ipynb\" target=\"_parent\"><img src=\"https://colab.research.google.com/assets/colab-badge.svg\" alt=\"Open In Colab\"/></a>"
      ]
    },
    {
      "cell_type": "markdown",
      "source": [
        "# 関数"
      ],
      "metadata": {
        "id": "zSosRHoqbbpf"
      }
    },
    {
      "cell_type": "markdown",
      "source": [
        "関数は、特定のタスクを実行するためのコードのブロックです。これにより、コードの再利用が容易になり、プログラム全体が読みやすく、保守しやすくなります。"
      ],
      "metadata": {
        "id": "m7SgqaRHbdt2"
      }
    },
    {
      "cell_type": "markdown",
      "source": [
        "**最もシンプルな関数の作成と使用**"
      ],
      "metadata": {
        "id": "54uHmvWpbiM0"
      }
    },
    {
      "cell_type": "markdown",
      "source": [
        "ここでは、最も基本的な関数の作成方法とそれを呼び出す方法を説明します。"
      ],
      "metadata": {
        "id": "HyG7YfCfbkza"
      }
    },
    {
      "cell_type": "code",
      "source": [
        "def say_hello():\n",
        "    print(\"hello\")\n",
        "\n",
        "say_hello()"
      ],
      "metadata": {
        "colab": {
          "base_uri": "https://localhost:8080/"
        },
        "id": "ViOtV2IGbdKI",
        "outputId": "bf5e70e7-817f-40d0-9a5c-5230b0ac2ba9"
      },
      "execution_count": null,
      "outputs": [
        {
          "output_type": "stream",
          "name": "stdout",
          "text": [
            "hello\n"
          ]
        }
      ]
    },
    {
      "cell_type": "markdown",
      "source": [
        "**for文を使用した関数**"
      ],
      "metadata": {
        "id": "TP4X3kJSbo5t"
      }
    },
    {
      "cell_type": "markdown",
      "source": [
        "関数内でループ処理を行う方法を説明します。この例では、0から4までの数字を出力します。"
      ],
      "metadata": {
        "id": "-TFjr6J0brOD"
      }
    },
    {
      "cell_type": "code",
      "source": [
        "def print_numbers():\n",
        "    for i in range(5):\n",
        "        print(i)\n",
        "\n",
        "print_numbers()"
      ],
      "metadata": {
        "colab": {
          "base_uri": "https://localhost:8080/"
        },
        "id": "AT7T5mY9bdUk",
        "outputId": "0e5d05dd-d4bd-482c-d624-b86fb2bfaae5"
      },
      "execution_count": null,
      "outputs": [
        {
          "output_type": "stream",
          "name": "stdout",
          "text": [
            "0\n",
            "1\n",
            "2\n",
            "3\n",
            "4\n"
          ]
        }
      ]
    },
    {
      "cell_type": "markdown",
      "source": [
        "**引数を持つ関数**"
      ],
      "metadata": {
        "id": "L8IpOSH-bwpD"
      }
    },
    {
      "cell_type": "markdown",
      "source": [
        "関数に引数を追加することで、関数の振る舞いを動的に変更できます。引数は関数に渡される値やデータで、関数内で使用されます。"
      ],
      "metadata": {
        "id": "wZ0O77bsbzk9"
      }
    },
    {
      "cell_type": "code",
      "source": [
        "def greet(name):\n",
        "    print(f\"hello, {name}\")\n",
        "\n",
        "greet(\"須藤さん\")"
      ],
      "metadata": {
        "colab": {
          "base_uri": "https://localhost:8080/"
        },
        "id": "6T0Z9vuxbdSV",
        "outputId": "f2ae2592-5517-42fb-d871-849dd7415f5f"
      },
      "execution_count": null,
      "outputs": [
        {
          "output_type": "stream",
          "name": "stdout",
          "text": [
            "hello, 須藤さん\n"
          ]
        }
      ]
    },
    {
      "cell_type": "markdown",
      "source": [
        "**数値を扱う関数**"
      ],
      "metadata": {
        "id": "sDIso56Hb6FQ"
      }
    },
    {
      "cell_type": "markdown",
      "source": [
        "数値を引数として受け取り、それを加算する関数の例を紹介します。"
      ],
      "metadata": {
        "id": "LUjHWqm5b8Pu"
      }
    },
    {
      "cell_type": "code",
      "source": [
        "def add_numbers(a, b):\n",
        "    print(a + b)\n",
        "\n",
        "add_numbers(3, 2)"
      ],
      "metadata": {
        "colab": {
          "base_uri": "https://localhost:8080/"
        },
        "id": "gZYsoMk-bdQJ",
        "outputId": "776cf171-b164-448d-d7b7-c47de502954c"
      },
      "execution_count": null,
      "outputs": [
        {
          "output_type": "stream",
          "name": "stdout",
          "text": [
            "5\n"
          ]
        }
      ]
    },
    {
      "cell_type": "markdown",
      "source": [
        "**リストを引数として取る関数**"
      ],
      "metadata": {
        "id": "1WtL8gsRcABc"
      }
    },
    {
      "cell_type": "markdown",
      "source": [
        "リストを引数に取り、そのリストの要素数や平均を計算する関数の使用例を示します。"
      ],
      "metadata": {
        "id": "NvQHxKd0cC1h"
      }
    },
    {
      "cell_type": "code",
      "source": [
        "def analyze_list(numbers):\n",
        "    print(\"リストの数:\", len(numbers))\n",
        "    print(\"リストの平均:\", sum(numbers) / len(numbers))\n",
        "\n",
        "list1 = [1, 2, 3, 4, 5, 6]\n",
        "analyze_list(list1)"
      ],
      "metadata": {
        "colab": {
          "base_uri": "https://localhost:8080/"
        },
        "id": "jVRdatjZbdOM",
        "outputId": "b6f0d061-3c00-4a9f-ca35-0200e973fd8c"
      },
      "execution_count": null,
      "outputs": [
        {
          "output_type": "stream",
          "name": "stdout",
          "text": [
            "リストの数: 6\n",
            "リストの平均: 3.5\n"
          ]
        }
      ]
    },
    {
      "cell_type": "markdown",
      "source": [
        "**戻り値を持つ関数**"
      ],
      "metadata": {
        "id": "7J5jJeQ0cG3j"
      }
    },
    {
      "cell_type": "markdown",
      "source": [
        "関数から値を返す方法と、その戻り値をどのように活用できるかを説明します。戻り値を使用すると、関数の計算結果を他の部分で再利用できます。"
      ],
      "metadata": {
        "id": "65p9xzsFcI3d"
      }
    },
    {
      "cell_type": "code",
      "source": [
        "def multiply_largest(A, B, C, D):\n",
        "    return max(A, B) * max(C, D)\n",
        "\n",
        "result = multiply_largest(3, 7, 5, 9)\n",
        "print(result)"
      ],
      "metadata": {
        "colab": {
          "base_uri": "https://localhost:8080/"
        },
        "id": "S-eZhf11cIn7",
        "outputId": "18b63147-49e5-41e3-f890-6ea036af0a68"
      },
      "execution_count": null,
      "outputs": [
        {
          "output_type": "stream",
          "name": "stdout",
          "text": [
            "63\n"
          ]
        }
      ]
    },
    {
      "cell_type": "markdown",
      "source": [
        "**その他**"
      ],
      "metadata": {
        "id": "f5A22wB3crBo"
      }
    },
    {
      "cell_type": "markdown",
      "source": [
        "**引数のデフォルト値**"
      ],
      "metadata": {
        "id": "N7yQZVGUctIT"
      }
    },
    {
      "cell_type": "markdown",
      "source": [
        "関数の引数にデフォルト値が設定されていると、関数を呼び出す際にその引数を省略可能にします。これにより、より少ないコードで多様なシナリオに対応できる関数を作成することができます。引数名の後に等号（=）とデフォルト値を指定します。呼び出し時にその引数が提供されない場合、関数は自動的にそのデフォルト値を使用します。"
      ],
      "metadata": {
        "id": "d_4WiW59cz40"
      }
    },
    {
      "cell_type": "code",
      "source": [
        "def greet(name, message=\"Hello\"):\n",
        "    print(f\"{message}, {name}!\")\n",
        "\n",
        "greet(\"Alice\")             # messageにデフォルト値が使用されます\n",
        "greet(\"Bob\", \"Goodbye\")    # messageに新しい値が提供されます"
      ],
      "metadata": {
        "colab": {
          "base_uri": "https://localhost:8080/"
        },
        "id": "lk2vWoH2cIls",
        "outputId": "b9fef662-e4fe-4754-80c9-311fbe0440c9"
      },
      "execution_count": null,
      "outputs": [
        {
          "output_type": "stream",
          "name": "stdout",
          "text": [
            "Hello, Alice!\n",
            "Goodbye, Bob!\n"
          ]
        }
      ]
    },
    {
      "cell_type": "markdown",
      "source": [
        "**デフォルト値の利点**   \n",
        "柔軟性: 関数のユーザーは、すべてのパラメータに値を提供する必要がなく、必要な部分のみを指定できます。    \n",
        "簡潔さ: デフォルト値があれば、同じ関数で異なる状況を簡単に扱えるため、コードがすっきりします。     \n",
        "エラーの減少: 必要な値が多い関数でデフォルト値を設定することで、引数の提供を忘れることによるエラーを減らすことができます。\n"
      ],
      "metadata": {
        "id": "4xMiAQfodD4K"
      }
    },
    {
      "cell_type": "markdown",
      "source": [
        "**キーワード引数**"
      ],
      "metadata": {
        "id": "9mcjljSAdui6"
      }
    },
    {
      "cell_type": "markdown",
      "source": [
        "キーワード引数を使用すると、引数の順番に依存せずに関数に引数を渡すことができます。これにより、コードの可読性が向上し、どの引数がどの値に対応しているかが明確になります。"
      ],
      "metadata": {
        "id": "iA1_TVt1dzRo"
      }
    },
    {
      "cell_type": "code",
      "source": [
        "def describe_pet(animal, name):\n",
        "    print(f\"I have a {animal} named {name}.\")\n",
        "\n",
        "describe_pet(name=\"Harry\", animal=\"hamster\")"
      ],
      "metadata": {
        "colab": {
          "base_uri": "https://localhost:8080/"
        },
        "id": "TWoRMW24cIjh",
        "outputId": "aad51073-b464-4139-836d-cb4254503e65"
      },
      "execution_count": null,
      "outputs": [
        {
          "output_type": "stream",
          "name": "stdout",
          "text": [
            "I have a hamster named Harry.\n"
          ]
        }
      ]
    },
    {
      "cell_type": "markdown",
      "source": [
        "**可変長引数**"
      ],
      "metadata": {
        "id": "WwrxHPahd4_f"
      }
    },
    {
      "cell_type": "markdown",
      "source": [
        "関数に任意の数の引数を渡すことができるようにするために、*args（非キーワード引数用）と**kwargs（キーワード引数用）を使用することができます。これにより、関数はより柔軟になります。"
      ],
      "metadata": {
        "id": "Tz5mek4Ud6DH"
      }
    },
    {
      "cell_type": "markdown",
      "source": [
        " **(*args)**"
      ],
      "metadata": {
        "id": "Uwbib5TjeLsI"
      }
    },
    {
      "cell_type": "markdown",
      "source": [
        "*args を使用すると、関数は任意の数の非キーワード引数（通常は位置引数と呼ばれる）をタプルとして受け取ることができます。これにより、関数呼び出し時に引数の数が決まっていない場合でも、柔軟に対応することが可能になります。"
      ],
      "metadata": {
        "id": "SWXAYg4Seqwr"
      }
    },
    {
      "cell_type": "code",
      "source": [
        "def print_args(*args):\n",
        "    for arg in args:\n",
        "        print(arg)\n",
        "\n",
        "print_args('one', 'two', 'three')"
      ],
      "metadata": {
        "colab": {
          "base_uri": "https://localhost:8080/"
        },
        "id": "R3EH9aPbcIez",
        "outputId": "9f5fc598-0969-42b0-d469-c75abff83a3c"
      },
      "execution_count": null,
      "outputs": [
        {
          "output_type": "stream",
          "name": "stdout",
          "text": [
            "one\n",
            "two\n",
            "three\n"
          ]
        }
      ]
    },
    {
      "cell_type": "markdown",
      "source": [
        "この例では、print_args 関数は任意の数の引数を受け取り、それぞれを順番に出力します。"
      ],
      "metadata": {
        "id": "2K2e0EYfexdC"
      }
    },
    {
      "cell_type": "markdown",
      "source": [
        " **( **kwargs)**"
      ],
      "metadata": {
        "id": "_qPVtUmFezf7"
      }
    },
    {
      "cell_type": "markdown",
      "source": [
        "**kwargs は *args と似ていますが、キーワード引数（引数名とその値のペア）を辞書として受け取ります。これにより、関数に名前付き引数を任意の数だけ渡すことができ、それぞれの引数を辞書のキーとしてアクセス可能になります。"
      ],
      "metadata": {
        "id": "8vJWZ76vfHfe"
      }
    },
    {
      "cell_type": "code",
      "source": [
        "def print_kwargs(**kwargs):\n",
        "    for key, value in kwargs.items():\n",
        "        print(f\"{key}: {value}\")\n",
        "\n",
        "print_kwargs(first='one', second='two', third='three')"
      ],
      "metadata": {
        "colab": {
          "base_uri": "https://localhost:8080/"
        },
        "id": "e4QzApH1cIEB",
        "outputId": "fc8ec30d-1d09-47d8-d0ed-234076575840"
      },
      "execution_count": null,
      "outputs": [
        {
          "output_type": "stream",
          "name": "stdout",
          "text": [
            "first: one\n",
            "second: two\n",
            "third: three\n"
          ]
        }
      ]
    },
    {
      "cell_type": "markdown",
      "source": [
        " **(  * argsと ** kwargsの組み合わせ )**"
      ],
      "metadata": {
        "id": "NqGY1gPKfQ9m"
      }
    },
    {
      "cell_type": "markdown",
      "source": [
        "関数では *args と **kwargs を組み合わせて使用することもできます。これにより、位置引数とキーワード引数の両方を任意の数受け取ることが可能になります。"
      ],
      "metadata": {
        "id": "VDMiAWJQfwnp"
      }
    },
    {
      "cell_type": "code",
      "source": [
        "def complex_function(*args, **kwargs):\n",
        "    print(\"Positional arguments:\")\n",
        "    for arg in args:\n",
        "        print(arg)\n",
        "    print(\"Keyword arguments:\")\n",
        "    for key, value in kwargs.items():\n",
        "        print(f\"{key}: {value}\")\n",
        "\n",
        "complex_function('one', 'two', first='alpha', second='beta')\n"
      ],
      "metadata": {
        "colab": {
          "base_uri": "https://localhost:8080/"
        },
        "id": "jQCpPopubdMN",
        "outputId": "ac0b3f81-4d1a-4be5-9583-81e79c2c9cea"
      },
      "execution_count": null,
      "outputs": [
        {
          "output_type": "stream",
          "name": "stdout",
          "text": [
            "Positional arguments:\n",
            "one\n",
            "two\n",
            "Keyword arguments:\n",
            "first: alpha\n",
            "second: beta\n"
          ]
        }
      ]
    },
    {
      "cell_type": "markdown",
      "source": [
        "**スコープと名前空間**"
      ],
      "metadata": {
        "id": "3oIdDBNvf0qG"
      }
    },
    {
      "cell_type": "markdown",
      "source": [
        "関数内で定義された変数は、その関数内でのみ存在します（ローカルスコープ）。外部の変数にアクセスするには、それらを関数に引数として渡すか、グローバル変数として定義する必要があります。"
      ],
      "metadata": {
        "id": "BS5qtynIf4NB"
      }
    },
    {
      "cell_type": "code",
      "source": [
        "def test():\n",
        "    x = \"local\"\n",
        "    print(x)\n",
        "\n",
        "test()\n",
        "print(x)  # これはエラーになる"
      ],
      "metadata": {
        "colab": {
          "base_uri": "https://localhost:8080/",
          "height": 194
        },
        "id": "ZSWQo9zyf0c1",
        "outputId": "7fd0dde9-34cd-4f90-870e-3065c75aba44"
      },
      "execution_count": null,
      "outputs": [
        {
          "output_type": "stream",
          "name": "stdout",
          "text": [
            "local\n"
          ]
        },
        {
          "output_type": "error",
          "ename": "NameError",
          "evalue": "name 'x' is not defined",
          "traceback": [
            "\u001b[0;31m---------------------------------------------------------------------------\u001b[0m",
            "\u001b[0;31mNameError\u001b[0m                                 Traceback (most recent call last)",
            "\u001b[0;32m<ipython-input-12-00cc6e0b14ed>\u001b[0m in \u001b[0;36m<cell line: 6>\u001b[0;34m()\u001b[0m\n\u001b[1;32m      4\u001b[0m \u001b[0;34m\u001b[0m\u001b[0m\n\u001b[1;32m      5\u001b[0m \u001b[0mtest\u001b[0m\u001b[0;34m(\u001b[0m\u001b[0;34m)\u001b[0m\u001b[0;34m\u001b[0m\u001b[0;34m\u001b[0m\u001b[0m\n\u001b[0;32m----> 6\u001b[0;31m \u001b[0mprint\u001b[0m\u001b[0;34m(\u001b[0m\u001b[0mx\u001b[0m\u001b[0;34m)\u001b[0m  \u001b[0;31m# これはエラーになる\u001b[0m\u001b[0;34m\u001b[0m\u001b[0;34m\u001b[0m\u001b[0m\n\u001b[0m",
            "\u001b[0;31mNameError\u001b[0m: name 'x' is not defined"
          ]
        }
      ]
    },
    {
      "cell_type": "code",
      "source": [],
      "metadata": {
        "id": "VAYbPHtEf0Z2"
      },
      "execution_count": null,
      "outputs": []
    },
    {
      "cell_type": "code",
      "execution_count": null,
      "metadata": {
        "id": "msNxbYcLbTP6"
      },
      "outputs": [],
      "source": []
    }
  ]
}