{
  "nbformat": 4,
  "nbformat_minor": 0,
  "metadata": {
    "colab": {
      "provenance": [],
      "include_colab_link": true
    },
    "kernelspec": {
      "name": "python3",
      "display_name": "Python 3"
    },
    "language_info": {
      "name": "python"
    }
  },
  "cells": [
    {
      "cell_type": "markdown",
      "metadata": {
        "id": "view-in-github",
        "colab_type": "text"
      },
      "source": [
        "<a href=\"https://colab.research.google.com/github/TMDU-AI/supplements/blob/main/%E7%B5%84%E3%81%BF%E8%BE%BC%E3%81%BF%E9%96%A2%E6%95%B020240424.ipynb\" target=\"_parent\"><img src=\"https://colab.research.google.com/assets/colab-badge.svg\" alt=\"Open In Colab\"/></a>"
      ]
    },
    {
      "cell_type": "markdown",
      "source": [
        "# 組み込み関数"
      ],
      "metadata": {
        "id": "ll2wmSx9RCd3"
      }
    },
    {
      "cell_type": "markdown",
      "source": [
        "Pythonには多くの便利な組み込み関数(最初から使える関数)があり、これらの関数を使うことで様々な基本的なタスクを簡単に処理できます。以下にいくつかの主要な組み込み関数の概要と使用例を示します。"
      ],
      "metadata": {
        "id": "dV5JtfTiRGM7"
      }
    },
    {
      "cell_type": "markdown",
      "source": [
        "**print()**"
      ],
      "metadata": {
        "id": "A79exo7gRMOu"
      }
    },
    {
      "cell_type": "markdown",
      "source": [
        "機能: 文字列や数値などの値を出力します。"
      ],
      "metadata": {
        "id": "mr0Ic5CYRPoY"
      }
    },
    {
      "cell_type": "code",
      "source": [
        "print(\"こんにちは、世界！\")"
      ],
      "metadata": {
        "colab": {
          "base_uri": "https://localhost:8080/"
        },
        "id": "9hsBr65qRCKB",
        "outputId": "8fc1bd8c-cdbd-4395-d792-736e4b92ee53"
      },
      "execution_count": null,
      "outputs": [
        {
          "output_type": "stream",
          "name": "stdout",
          "text": [
            "こんにちは、世界！\n"
          ]
        }
      ]
    },
    {
      "cell_type": "markdown",
      "source": [
        "**len()**"
      ],
      "metadata": {
        "id": "3se043wkRVTz"
      }
    },
    {
      "cell_type": "markdown",
      "source": [
        "機能: コンテナ（リスト、文字列、タプルなど）の要素数を返します。"
      ],
      "metadata": {
        "id": "_RpLWCMmRWs5"
      }
    },
    {
      "cell_type": "code",
      "source": [
        "my_list = [1, 2, 3]\n",
        "print(len(my_list))  # 出力: 3"
      ],
      "metadata": {
        "colab": {
          "base_uri": "https://localhost:8080/"
        },
        "id": "SPlrubr8RCH4",
        "outputId": "ab65a69f-9934-4a0e-cd24-0b6e0af0bb95"
      },
      "execution_count": null,
      "outputs": [
        {
          "output_type": "stream",
          "name": "stdout",
          "text": [
            "3\n"
          ]
        }
      ]
    },
    {
      "cell_type": "markdown",
      "source": [
        "**type()**"
      ],
      "metadata": {
        "id": "m_OQ4AGMRb47"
      }
    },
    {
      "cell_type": "markdown",
      "source": [
        "機能: オブジェクトの型を返します。"
      ],
      "metadata": {
        "id": "-Tfsd82jRc96"
      }
    },
    {
      "cell_type": "code",
      "source": [
        "print(type(123))  # 出力: <class 'int'>"
      ],
      "metadata": {
        "colab": {
          "base_uri": "https://localhost:8080/"
        },
        "id": "dyxWMIPkRfxd",
        "outputId": "161df1d4-539c-4761-b5bd-f35b073300f7"
      },
      "execution_count": null,
      "outputs": [
        {
          "output_type": "stream",
          "name": "stdout",
          "text": [
            "<class 'int'>\n"
          ]
        }
      ]
    },
    {
      "cell_type": "markdown",
      "source": [
        "**int(), float(), str()**"
      ],
      "metadata": {
        "id": "w3mjUNrrRpgx"
      }
    },
    {
      "cell_type": "markdown",
      "source": [
        "機能: 値を整数、浮動小数点数、文字列に変換します。"
      ],
      "metadata": {
        "id": "813iX8XzR0B9"
      }
    },
    {
      "cell_type": "code",
      "source": [
        "print(int(\"10\"))      # 出力: 10\n",
        "print(float(\"10.5\"))  # 出力: 10.5\n",
        "print(str(10))        # 出力: '10'"
      ],
      "metadata": {
        "colab": {
          "base_uri": "https://localhost:8080/"
        },
        "id": "cACaa9WqRCGQ",
        "outputId": "1b3e80e3-de29-487e-89a0-c7ed1760caf3"
      },
      "execution_count": null,
      "outputs": [
        {
          "output_type": "stream",
          "name": "stdout",
          "text": [
            "10\n",
            "10.5\n",
            "10\n"
          ]
        }
      ]
    },
    {
      "cell_type": "markdown",
      "source": [
        "**max() と min()**"
      ],
      "metadata": {
        "id": "c0mokD6nR4zU"
      }
    },
    {
      "cell_type": "markdown",
      "source": [
        "機能: コンテナまたは引数リストの最大値または最小値を返します。"
      ],
      "metadata": {
        "id": "SWxZQt13R5se"
      }
    },
    {
      "cell_type": "code",
      "source": [
        "numbers = [1, 2, 3, 4, 5]\n",
        "print(max(numbers))  # 出力: 5\n",
        "print(min(numbers))  # 出力: 1"
      ],
      "metadata": {
        "colab": {
          "base_uri": "https://localhost:8080/"
        },
        "id": "S7GMXHCCRCDw",
        "outputId": "50a800d4-ebf7-4b9d-ac72-e2d67b35ac6c"
      },
      "execution_count": null,
      "outputs": [
        {
          "output_type": "stream",
          "name": "stdout",
          "text": [
            "5\n",
            "1\n"
          ]
        }
      ]
    },
    {
      "cell_type": "markdown",
      "source": [
        "**sum()**"
      ],
      "metadata": {
        "id": "OQgohIp3R-6S"
      }
    },
    {
      "cell_type": "markdown",
      "source": [
        "機能: コンテナの数値の合計を返します。"
      ],
      "metadata": {
        "id": "HWmIFWQKR_4b"
      }
    },
    {
      "cell_type": "code",
      "source": [
        "numbers = [1, 2, 3, 4, 5]\n",
        "print(sum(numbers))  # 出力: 15"
      ],
      "metadata": {
        "colab": {
          "base_uri": "https://localhost:8080/"
        },
        "id": "6iGChU29R2tr",
        "outputId": "9463f502-58f6-4217-9ff6-7c0cd7dec22a"
      },
      "execution_count": null,
      "outputs": [
        {
          "output_type": "stream",
          "name": "stdout",
          "text": [
            "15\n"
          ]
        }
      ]
    },
    {
      "cell_type": "markdown",
      "source": [
        "**sorted()**"
      ],
      "metadata": {
        "id": "9rGIdHnQSH8b"
      }
    },
    {
      "cell_type": "markdown",
      "source": [
        "機能: ソートされた新しいリストを返します。"
      ],
      "metadata": {
        "id": "2ud1uUdYSJHt"
      }
    },
    {
      "cell_type": "code",
      "source": [
        "numbers = [5, 2, 9, 1]\n",
        "print(sorted(numbers))  # 出力: [1, 2, 5, 9]"
      ],
      "metadata": {
        "colab": {
          "base_uri": "https://localhost:8080/"
        },
        "id": "GIeyvo5XSF16",
        "outputId": "ded8c9df-f254-4ad3-8e81-dead29d71881"
      },
      "execution_count": null,
      "outputs": [
        {
          "output_type": "stream",
          "name": "stdout",
          "text": [
            "[1, 2, 5, 9]\n"
          ]
        }
      ]
    },
    {
      "cell_type": "markdown",
      "source": [
        "**input()**"
      ],
      "metadata": {
        "id": "wB7Q2ZDLSOZn"
      }
    },
    {
      "cell_type": "markdown",
      "source": [
        "機能: ユーザーからの入力を文字列として受け取ります。"
      ],
      "metadata": {
        "id": "G4uAGs6MSRtG"
      }
    },
    {
      "cell_type": "code",
      "source": [
        "name = input(\"名前を入力してください: \")\n",
        "print(f\"こんにちは、{name}！\")"
      ],
      "metadata": {
        "colab": {
          "base_uri": "https://localhost:8080/"
        },
        "id": "Wrp3ceHwSFz1",
        "outputId": "9b5b54ca-5cf2-4aff-fe0e-5eb627d4df50"
      },
      "execution_count": null,
      "outputs": [
        {
          "output_type": "stream",
          "name": "stdout",
          "text": [
            "名前を入力してください: 須藤\n",
            "こんにちは、須藤！\n"
          ]
        }
      ]
    },
    {
      "cell_type": "markdown",
      "source": [
        "**abs()**"
      ],
      "metadata": {
        "id": "c6xWyo8zSX8Z"
      }
    },
    {
      "cell_type": "markdown",
      "source": [
        "機能: 数値の絶対値を返します。"
      ],
      "metadata": {
        "id": "ZoZtf2X0SapF"
      }
    },
    {
      "cell_type": "code",
      "source": [
        "print(abs(-5))  # 出力: 5"
      ],
      "metadata": {
        "colab": {
          "base_uri": "https://localhost:8080/"
        },
        "id": "TZkIoX8BSFxy",
        "outputId": "a9955c10-6264-4b58-dde7-29bb6005364f"
      },
      "execution_count": null,
      "outputs": [
        {
          "output_type": "stream",
          "name": "stdout",
          "text": [
            "5\n"
          ]
        }
      ]
    },
    {
      "cell_type": "markdown",
      "source": [
        "**round()**"
      ],
      "metadata": {
        "id": "3NGrCn_cSfKh"
      }
    },
    {
      "cell_type": "markdown",
      "source": [
        "機能: 数値を指定された桁数で四捨五入します。"
      ],
      "metadata": {
        "id": "okyf1uNfSgQM"
      }
    },
    {
      "cell_type": "code",
      "source": [
        "number = 5.678\n",
        "print(round(number, 2))  # 出力: 5.68"
      ],
      "metadata": {
        "colab": {
          "base_uri": "https://localhost:8080/"
        },
        "id": "3EK5UcJrSc2L",
        "outputId": "fbcd2be7-ce3c-4766-bdbb-b57c44f030fb"
      },
      "execution_count": null,
      "outputs": [
        {
          "output_type": "stream",
          "name": "stdout",
          "text": [
            "5.68\n"
          ]
        }
      ]
    },
    {
      "cell_type": "markdown",
      "source": [
        "**zip()**"
      ],
      "metadata": {
        "id": "vEvz9c0KSli-"
      }
    },
    {
      "cell_type": "markdown",
      "source": [
        "機能: 複数のイテラブル（リスト、タプルなど）を同時にループするために使います。複数のイテラブルから要素を取り出し、それぞれの要素からなるタプルを生成します。"
      ],
      "metadata": {
        "id": "WY0iyG0tSo5E"
      }
    },
    {
      "cell_type": "code",
      "source": [
        "names = ['Alice', 'Bob', 'Charlie']\n",
        "ages = [24, 30, 18]\n",
        "for name, age in zip(names, ages):\n",
        "    print(f\"{name} is {age} years old\")"
      ],
      "metadata": {
        "colab": {
          "base_uri": "https://localhost:8080/"
        },
        "id": "VTSXjv3eScz4",
        "outputId": "708081c9-b6f5-48cb-c26c-40e37d4da3ce"
      },
      "execution_count": null,
      "outputs": [
        {
          "output_type": "stream",
          "name": "stdout",
          "text": [
            "Alice is 24 years old\n",
            "Bob is 30 years old\n",
            "Charlie is 18 years old\n"
          ]
        }
      ]
    },
    {
      "cell_type": "markdown",
      "source": [
        "**all() と any()**"
      ],
      "metadata": {
        "id": "tDUy-pqHSuVG"
      }
    },
    {
      "cell_type": "markdown",
      "source": [
        "機能: all() はイテラブル内の全ての要素が True（または真と評価される値）の場合に True を、any() は少なくとも一つの要素が True の場合に True を返します。"
      ],
      "metadata": {
        "id": "mhpJiESlSx4D"
      }
    },
    {
      "cell_type": "code",
      "source": [
        "values = [True, True, False]\n",
        "print(all(values))  # 出力: False\n",
        "print(any(values))  # 出力: True"
      ],
      "metadata": {
        "colab": {
          "base_uri": "https://localhost:8080/"
        },
        "id": "oTjdYW2wR2ro",
        "outputId": "68fea67b-beed-4e48-9d8d-a4d4ed5a49ab"
      },
      "execution_count": null,
      "outputs": [
        {
          "output_type": "stream",
          "name": "stdout",
          "text": [
            "False\n",
            "True\n"
          ]
        }
      ]
    },
    {
      "cell_type": "markdown",
      "source": [
        "**enumerate()**"
      ],
      "metadata": {
        "id": "9iS0LUyoS1eq"
      }
    },
    {
      "cell_type": "markdown",
      "source": [
        "機能: イテラブルをインデックス付きの要素でループするために使用します。"
      ],
      "metadata": {
        "id": "J7hJpxO6S4dy"
      }
    },
    {
      "cell_type": "code",
      "source": [
        "fruits = [\"apple\", \"banana\", \"cherry\"]\n",
        "for index, fruit in enumerate(fruits):\n",
        "    print(f\"{index}: {fruit}\")"
      ],
      "metadata": {
        "colab": {
          "base_uri": "https://localhost:8080/"
        },
        "id": "VncVThEKR2pq",
        "outputId": "0c5dad98-cd69-4128-c54e-1d5548b4d4f8"
      },
      "execution_count": null,
      "outputs": [
        {
          "output_type": "stream",
          "name": "stdout",
          "text": [
            "0: apple\n",
            "1: banana\n",
            "2: cherry\n"
          ]
        }
      ]
    },
    {
      "cell_type": "markdown",
      "source": [
        "**filter()**"
      ],
      "metadata": {
        "id": "Q95nDeiAS8ma"
      }
    },
    {
      "cell_type": "markdown",
      "source": [
        "機能: 特定の条件に基づいて要素をフィルタリングします。"
      ],
      "metadata": {
        "id": "iM0MasUrS-oX"
      }
    },
    {
      "cell_type": "code",
      "source": [
        "numbers = range(-5, 5)\n",
        "positive_numbers = list(filter(lambda x: x > 0, numbers))\n",
        "print(positive_numbers)  # 出力: [1, 2, 3, 4]"
      ],
      "metadata": {
        "colab": {
          "base_uri": "https://localhost:8080/"
        },
        "id": "o2KnJU88R2ne",
        "outputId": "ba47fd75-8eff-4501-d120-5dad575ee16f"
      },
      "execution_count": null,
      "outputs": [
        {
          "output_type": "stream",
          "name": "stdout",
          "text": [
            "[1, 2, 3, 4]\n"
          ]
        }
      ]
    },
    {
      "cell_type": "markdown",
      "source": [
        "**map()**"
      ],
      "metadata": {
        "id": "eoOwo6YATGMe"
      }
    },
    {
      "cell_type": "markdown",
      "source": [
        "機能: すべての要素に対して指定された関数を適用します。"
      ],
      "metadata": {
        "id": "oh8fBx3YTHV6"
      }
    },
    {
      "cell_type": "code",
      "source": [
        "numbers = [1, 2, 3, 4, 5]\n",
        "squared = list(map(lambda x: x**2, numbers))\n",
        "print(squared)  # 出力: [1, 4, 9, 16, 25]"
      ],
      "metadata": {
        "colab": {
          "base_uri": "https://localhost:8080/"
        },
        "id": "HUcEvMRbRCBr",
        "outputId": "e29ecee6-a7db-4ed3-990c-180ec46b2eaf"
      },
      "execution_count": null,
      "outputs": [
        {
          "output_type": "stream",
          "name": "stdout",
          "text": [
            "[1, 4, 9, 16, 25]\n"
          ]
        }
      ]
    },
    {
      "cell_type": "markdown",
      "source": [
        "**reversed()**"
      ],
      "metadata": {
        "id": "wir8ykZaTM67"
      }
    },
    {
      "cell_type": "markdown",
      "source": [
        "機能: イテラブルの要素を逆順にします。"
      ],
      "metadata": {
        "id": "iaAA2xgtTPXa"
      }
    },
    {
      "cell_type": "code",
      "source": [
        "for char in reversed(\"hello\"):\n",
        "    print(char, end=' ')\n",
        "# 出力: o l l e h"
      ],
      "metadata": {
        "colab": {
          "base_uri": "https://localhost:8080/"
        },
        "id": "pGlCX_hERB_t",
        "outputId": "532667c4-e4c3-4ddc-d9a4-1db9c082f7ce"
      },
      "execution_count": null,
      "outputs": [
        {
          "output_type": "stream",
          "name": "stdout",
          "text": [
            "o l l e h "
          ]
        }
      ]
    },
    {
      "cell_type": "markdown",
      "source": [
        "help()"
      ],
      "metadata": {
        "id": "DCEvOFreTYUF"
      }
    },
    {
      "cell_type": "markdown",
      "source": [
        "機能: オブジェクトについてのヘルプ情報を表示します。"
      ],
      "metadata": {
        "id": "LMdi-H1XTaun"
      }
    },
    {
      "cell_type": "code",
      "source": [
        "help(print)  # print関数のドキュメントを表示"
      ],
      "metadata": {
        "colab": {
          "base_uri": "https://localhost:8080/"
        },
        "id": "Ws6xd-v6RB9z",
        "outputId": "8f5806ad-1858-436a-86d1-900577c2e767"
      },
      "execution_count": null,
      "outputs": [
        {
          "output_type": "stream",
          "name": "stdout",
          "text": [
            "Help on built-in function print in module builtins:\n",
            "\n",
            "print(...)\n",
            "    print(value, ..., sep=' ', end='\\n', file=sys.stdout, flush=False)\n",
            "    \n",
            "    Prints the values to a stream, or to sys.stdout by default.\n",
            "    Optional keyword arguments:\n",
            "    file:  a file-like object (stream); defaults to the current sys.stdout.\n",
            "    sep:   string inserted between values, default a space.\n",
            "    end:   string appended after the last value, default a newline.\n",
            "    flush: whether to forcibly flush the stream.\n",
            "\n"
          ]
        }
      ]
    },
    {
      "cell_type": "markdown",
      "source": [
        "**pow()**"
      ],
      "metadata": {
        "id": "gwvzEB_GThC8"
      }
    },
    {
      "cell_type": "markdown",
      "source": [
        "機能: x の y 乗を計算します。オプションで z を指定した場合、(x**y) % z を計算します。"
      ],
      "metadata": {
        "id": "JbD9sIYhTjUZ"
      }
    },
    {
      "cell_type": "code",
      "source": [
        "print(pow(2, 3))  # 出力: 8\n",
        "print(pow(2, 3, 3))  # 出力: 2 (8 % 3)"
      ],
      "metadata": {
        "colab": {
          "base_uri": "https://localhost:8080/"
        },
        "id": "3uOLzFh3Tgxw",
        "outputId": "65c69e83-5773-43fb-8223-444fd9183690"
      },
      "execution_count": null,
      "outputs": [
        {
          "output_type": "stream",
          "name": "stdout",
          "text": [
            "8\n",
            "2\n"
          ]
        }
      ]
    },
    {
      "cell_type": "markdown",
      "source": [
        "**set()**"
      ],
      "metadata": {
        "id": "qMth2UR5To2D"
      }
    },
    {
      "cell_type": "markdown",
      "source": [
        "機能: イテラブルから集合（重複を許さない要素の集まり）を生成します。"
      ],
      "metadata": {
        "id": "UXAGwFnLTuBU"
      }
    },
    {
      "cell_type": "code",
      "source": [
        "my_list = [1, 2, 2, 3, 4, 4, 4]\n",
        "print(set(my_list))  # 出力: {1, 2, 3, 4}"
      ],
      "metadata": {
        "colab": {
          "base_uri": "https://localhost:8080/"
        },
        "id": "eKSDZByITgvc",
        "outputId": "9cc0c3d2-c0a7-45ed-c475-6855a20c0df7"
      },
      "execution_count": null,
      "outputs": [
        {
          "output_type": "stream",
          "name": "stdout",
          "text": [
            "{1, 2, 3, 4}\n"
          ]
        }
      ]
    },
    {
      "cell_type": "markdown",
      "source": [
        "**list()**"
      ],
      "metadata": {
        "id": "HbAq4RbwTzlR"
      }
    },
    {
      "cell_type": "markdown",
      "source": [
        "機能: 任意のイテラブル（配列、文字列、タプルなど）から新しいリストを生成します。"
      ],
      "metadata": {
        "id": "pYlYgByNT1uA"
      }
    },
    {
      "cell_type": "code",
      "source": [
        "tuple_data = (1, 2, 3)\n",
        "new_list = list(tuple_data)\n",
        "print(new_list)  # 出力: [1, 2, 3]"
      ],
      "metadata": {
        "colab": {
          "base_uri": "https://localhost:8080/"
        },
        "id": "H-9koXabTzXV",
        "outputId": "4ff3fe64-6b1b-4e17-b954-96f5e31b3fba"
      },
      "execution_count": null,
      "outputs": [
        {
          "output_type": "stream",
          "name": "stdout",
          "text": [
            "[1, 2, 3]\n"
          ]
        }
      ]
    },
    {
      "cell_type": "markdown",
      "source": [
        "**tuple()**"
      ],
      "metadata": {
        "id": "cTDyfN6NT5GQ"
      }
    },
    {
      "cell_type": "markdown",
      "source": [
        "機能: 任意のイテラブルから新しいタプルを生成します"
      ],
      "metadata": {
        "id": "-Zud5AWKT7n3"
      }
    },
    {
      "cell_type": "code",
      "source": [
        "list_data = [1, 2, 3]\n",
        "new_tuple = tuple(list_data)\n",
        "print(new_tuple)  # 出力: (1, 2, 3)"
      ],
      "metadata": {
        "colab": {
          "base_uri": "https://localhost:8080/"
        },
        "id": "W8DFRereTzRP",
        "outputId": "f38585a9-a018-409b-8edb-b0940c6e8c15"
      },
      "execution_count": null,
      "outputs": [
        {
          "output_type": "stream",
          "name": "stdout",
          "text": [
            "(1, 2, 3)\n"
          ]
        }
      ]
    },
    {
      "cell_type": "markdown",
      "source": [
        "**dict()**"
      ],
      "metadata": {
        "id": "OnnbkPGZT_Rf"
      }
    },
    {
      "cell_type": "markdown",
      "source": [
        "機能: キーワード引数、キーと値のペアのリスト、またはキーと値のペアのタプルのリストから新しい辞書を生成します。"
      ],
      "metadata": {
        "id": "QNA9sm3GUBgm"
      }
    },
    {
      "cell_type": "code",
      "source": [
        "pair_list = [(\"key1\", \"value1\"), (\"key2\", \"value2\")]\n",
        "new_dict = dict(pair_list)\n",
        "print(new_dict)  # 出力: {'key1': 'value1', 'key2': 'value2'}"
      ],
      "metadata": {
        "colab": {
          "base_uri": "https://localhost:8080/"
        },
        "id": "hh6xq_AfRB7v",
        "outputId": "1a4af9a4-cf40-4ab3-cc18-4e43236c30d5"
      },
      "execution_count": null,
      "outputs": [
        {
          "output_type": "stream",
          "name": "stdout",
          "text": [
            "{'key1': 'value1', 'key2': 'value2'}\n"
          ]
        }
      ]
    },
    {
      "cell_type": "code",
      "source": [],
      "metadata": {
        "id": "yL7r2mb9UD76"
      },
      "execution_count": null,
      "outputs": []
    },
    {
      "cell_type": "code",
      "execution_count": null,
      "metadata": {
        "id": "ava4tqtxQ8PM"
      },
      "outputs": [],
      "source": []
    }
  ]
}