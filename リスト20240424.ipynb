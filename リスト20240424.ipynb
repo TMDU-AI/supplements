{
  "nbformat": 4,
  "nbformat_minor": 0,
  "metadata": {
    "colab": {
      "provenance": [],
      "include_colab_link": true
    },
    "kernelspec": {
      "name": "python3",
      "display_name": "Python 3"
    },
    "language_info": {
      "name": "python"
    }
  },
  "cells": [
    {
      "cell_type": "markdown",
      "metadata": {
        "id": "view-in-github",
        "colab_type": "text"
      },
      "source": [
        "<a href=\"https://colab.research.google.com/github/TMDU-AI/supplements/blob/main/%E3%83%AA%E3%82%B9%E3%83%8820240424.ipynb\" target=\"_parent\"><img src=\"https://colab.research.google.com/assets/colab-badge.svg\" alt=\"Open In Colab\"/></a>"
      ]
    },
    {
      "cell_type": "markdown",
      "source": [
        "# リスト"
      ],
      "metadata": {
        "id": "aA-LFl-oG7Dx"
      }
    },
    {
      "cell_type": "markdown",
      "source": [
        "ここでは、リストの作成、アクセス、修正、およびリストを使ったいくつかの基本的な操作について説明します。"
      ],
      "metadata": {
        "id": "pXNPOwBrG5Om"
      }
    },
    {
      "cell_type": "markdown",
      "source": [
        "**リストの作成**"
      ],
      "metadata": {
        "id": "GZSAwtKOG_AU"
      }
    },
    {
      "cell_type": "markdown",
      "source": [
        "リストは複数の要素を一つの変数に格納するのに使います。リストは角括弧 [] を使って作成し、要素はカンマで区切ります。"
      ],
      "metadata": {
        "id": "aCFdnuCsHAJy"
      }
    },
    {
      "cell_type": "code",
      "execution_count": null,
      "metadata": {
        "colab": {
          "base_uri": "https://localhost:8080/"
        },
        "id": "jaaZ7jlPGzIh",
        "outputId": "7c97b2a2-4a14-4ce8-d552-edf624497d4e"
      },
      "outputs": [
        {
          "output_type": "stream",
          "name": "stdout",
          "text": [
            "['apple', 'banana', 'cherry']\n"
          ]
        }
      ],
      "source": [
        "# リストの作成\n",
        "fruits = [\"apple\", \"banana\", \"cherry\"]\n",
        "print(fruits)"
      ]
    },
    {
      "cell_type": "markdown",
      "source": [
        "**リストへのアクセス**"
      ],
      "metadata": {
        "id": "fPjx3sNEHLYB"
      }
    },
    {
      "cell_type": "markdown",
      "source": [
        "リストの要素にアクセスするには、インデックスを使用します。インデックスは0から始まります。"
      ],
      "metadata": {
        "id": "ioAvyKg2HNN-"
      }
    },
    {
      "cell_type": "code",
      "source": [
        "# リストの最初の要素にアクセス\n",
        "print(fruits[0])  # apple\n",
        "\n",
        "# リストの最後の要素にアクセス\n",
        "print(fruits[-1])  # cherry"
      ],
      "metadata": {
        "colab": {
          "base_uri": "https://localhost:8080/"
        },
        "id": "N_ZCXAf4Gzy-",
        "outputId": "70534b2f-8914-4fb7-97d3-ba74a6621aea"
      },
      "execution_count": null,
      "outputs": [
        {
          "output_type": "stream",
          "name": "stdout",
          "text": [
            "apple\n",
            "cherry\n"
          ]
        }
      ]
    },
    {
      "cell_type": "markdown",
      "source": [
        "**リストの修正**"
      ],
      "metadata": {
        "id": "dpR39rduHV6V"
      }
    },
    {
      "cell_type": "markdown",
      "source": [
        "リストの要素を変更するには、インデックスを使って新しい値を代入します。"
      ],
      "metadata": {
        "id": "4E4TjiHtHWvO"
      }
    },
    {
      "cell_type": "code",
      "source": [
        "# リストの第二要素を変更\n",
        "fruits[1] = \"orange\"\n",
        "print(fruits)  # ['apple', 'orange', 'cherry']"
      ],
      "metadata": {
        "colab": {
          "base_uri": "https://localhost:8080/"
        },
        "id": "Lu-uN6jPGzxa",
        "outputId": "0302e08a-ee52-48e9-98b2-60ffc8e6b8fd"
      },
      "execution_count": null,
      "outputs": [
        {
          "output_type": "stream",
          "name": "stdout",
          "text": [
            "['apple', 'orange', 'cherry']\n"
          ]
        }
      ]
    },
    {
      "cell_type": "markdown",
      "source": [
        "**リストに要素を追加する**"
      ],
      "metadata": {
        "id": "wJ_TnNUyHcYJ"
      }
    },
    {
      "cell_type": "markdown",
      "source": [
        "リストの末尾に要素を追加するには append() メソッドを使用します。"
      ],
      "metadata": {
        "id": "sxSKnVqXHe5W"
      }
    },
    {
      "cell_type": "code",
      "source": [
        "# リストの末尾に新しい要素を追加\n",
        "fruits.append(\"mango\")\n",
        "print(fruits)  # ['apple', 'orange', 'cherry', 'mango']"
      ],
      "metadata": {
        "colab": {
          "base_uri": "https://localhost:8080/"
        },
        "id": "6y3KxL3xGzvV",
        "outputId": "ed2db417-3b03-47be-c93c-f70d179e18a1"
      },
      "execution_count": null,
      "outputs": [
        {
          "output_type": "stream",
          "name": "stdout",
          "text": [
            "['apple', 'orange', 'cherry', 'mango']\n"
          ]
        }
      ]
    },
    {
      "cell_type": "markdown",
      "source": [
        "**リストから要素を削除する**"
      ],
      "metadata": {
        "id": "Vmhkhw1FHjCt"
      }
    },
    {
      "cell_type": "markdown",
      "source": [
        "リストから要素を削除する方法はいくつかあります。remove() メソッドを使って特定の値を削除することができます。"
      ],
      "metadata": {
        "id": "iT6e92KWHkPA"
      }
    },
    {
      "cell_type": "code",
      "source": [
        "# 特定の要素を削除\n",
        "fruits.remove(\"orange\")\n",
        "print(fruits)  # ['apple', 'cherry', 'mango']"
      ],
      "metadata": {
        "colab": {
          "base_uri": "https://localhost:8080/"
        },
        "id": "U0lKI0MxGztR",
        "outputId": "99481c2b-3ce7-4035-d97a-ef488d2f63cd"
      },
      "execution_count": null,
      "outputs": [
        {
          "output_type": "stream",
          "name": "stdout",
          "text": [
            "['apple', 'cherry', 'mango']\n"
          ]
        }
      ]
    },
    {
      "cell_type": "markdown",
      "source": [
        "**リストのソート**"
      ],
      "metadata": {
        "id": "CagGa6mEHrIU"
      }
    },
    {
      "cell_type": "markdown",
      "source": [
        "リストの要素をアルファベット順や数値順に並び替えることができます。sort() メソッドを使ってリストをその場でソートします。"
      ],
      "metadata": {
        "id": "4068SbWRHtX4"
      }
    },
    {
      "cell_type": "code",
      "source": [
        "# リストをアルファベット順にソート\n",
        "fruits.sort()\n",
        "print(fruits)  # ['apple', 'cherry', 'mango']"
      ],
      "metadata": {
        "colab": {
          "base_uri": "https://localhost:8080/"
        },
        "id": "KfAYpi_RHtAm",
        "outputId": "4d4be88b-4b28-4b58-f581-faeda8a88a08"
      },
      "execution_count": null,
      "outputs": [
        {
          "output_type": "stream",
          "name": "stdout",
          "text": [
            "['apple', 'cherry', 'mango']\n"
          ]
        }
      ]
    },
    {
      "cell_type": "markdown",
      "source": [
        "**リストへの要素の挿入**"
      ],
      "metadata": {
        "id": "k8PQjS_DHyed"
      }
    },
    {
      "cell_type": "markdown",
      "source": [
        "特定の位置に要素を挿入するには insert() メソッドを使用します。このメソッドは2つの引数を取ります：挿入位置のインデックスと挿入する要素です。"
      ],
      "metadata": {
        "id": "6v2YfquwH0Xt"
      }
    },
    {
      "cell_type": "code",
      "source": [
        "# リストの特定の位置に要素を挿入\n",
        "fruits.insert(1, \"banana\")\n",
        "print(fruits)  # ['apple', 'banana', 'cherry', 'mango']"
      ],
      "metadata": {
        "colab": {
          "base_uri": "https://localhost:8080/"
        },
        "id": "4uOUWL5VHs-M",
        "outputId": "448a1005-69a5-4960-8e63-f1cc48f243ab"
      },
      "execution_count": null,
      "outputs": [
        {
          "output_type": "stream",
          "name": "stdout",
          "text": [
            "['apple', 'banana', 'cherry', 'mango']\n"
          ]
        }
      ]
    },
    {
      "cell_type": "markdown",
      "source": [
        "**リストのスライス**"
      ],
      "metadata": {
        "id": "ej2snC8wH7nG"
      }
    },
    {
      "cell_type": "markdown",
      "source": [
        "リストの部分的なコピーを作るにはスライスを使います。スライスはコロン : を使って指定します。"
      ],
      "metadata": {
        "id": "IB3SF7pyH-JW"
      }
    },
    {
      "cell_type": "code",
      "source": [
        "# リストの一部をスライス\n",
        "sub_fruits = fruits[1:3]\n",
        "print(sub_fruits)  # ['banana', 'cherry']"
      ],
      "metadata": {
        "id": "uMFwSqVdHsep"
      },
      "execution_count": null,
      "outputs": []
    },
    {
      "cell_type": "markdown",
      "source": [
        "**リストの複製**"
      ],
      "metadata": {
        "id": "qxWMYnerIEDa"
      }
    },
    {
      "cell_type": "markdown",
      "source": [
        "リスト全体のコピーを作成するには、スライス操作を使って新しいリストを作成します。"
      ],
      "metadata": {
        "id": "v6q6aguDIE-e"
      }
    },
    {
      "cell_type": "code",
      "source": [
        "# リストの複製\n",
        "new_fruits = fruits[:]\n",
        "print(new_fruits)  # ['apple', 'banana', 'cherry', 'mango']"
      ],
      "metadata": {
        "colab": {
          "base_uri": "https://localhost:8080/"
        },
        "id": "EtsXbEyBGzrS",
        "outputId": "b83203e2-3a2d-4b60-cba2-28aee8bcc730"
      },
      "execution_count": null,
      "outputs": [
        {
          "output_type": "stream",
          "name": "stdout",
          "text": [
            "['apple', 'banana', 'cherry', 'mango']\n"
          ]
        }
      ]
    },
    {
      "cell_type": "markdown",
      "source": [
        "**リストの拡張**"
      ],
      "metadata": {
        "id": "LB-91H5CILD6"
      }
    },
    {
      "cell_type": "markdown",
      "source": [
        "複数の要素をリストに追加したい場合、extend() メソッドを使用すると効率的です。これは他のリストの要素をすべて現在のリストに追加します。"
      ],
      "metadata": {
        "id": "i3wRB9B-INmJ"
      }
    },
    {
      "cell_type": "code",
      "source": [
        "# 別のリストの要素でリストを拡張\n",
        "more_fruits = [\"grape\", \"pear\"]\n",
        "fruits.extend(more_fruits)\n",
        "print(fruits)  # ['apple', 'banana', 'cherry', 'mango', 'grape', 'pear']"
      ],
      "metadata": {
        "colab": {
          "base_uri": "https://localhost:8080/"
        },
        "id": "3PRXqtOhIK1T",
        "outputId": "f1543e2f-6a71-4956-c5f2-ffc8761fdd80"
      },
      "execution_count": null,
      "outputs": [
        {
          "output_type": "stream",
          "name": "stdout",
          "text": [
            "['apple', 'banana', 'cherry', 'mango', 'grape', 'pear']\n"
          ]
        }
      ]
    },
    {
      "cell_type": "markdown",
      "source": [
        "**リスト内包表記**"
      ],
      "metadata": {
        "id": "JKyE7pQQIQ5m"
      }
    },
    {
      "cell_type": "markdown",
      "source": [
        "リスト内包表記は、既存のリストから新しいリストを生成するためのコンパクトな方法です。条件に基づいてリストを生成したり、要素に操作を適用したりするのに便利です。"
      ],
      "metadata": {
        "id": "0bEXwLzaIT2s"
      }
    },
    {
      "cell_type": "code",
      "source": [
        "# リスト内包表記を使用して、リストから特定の条件にマッチする要素を選択\n",
        "short_fruits = [fruit for fruit in fruits if len(fruit) <= 5]\n",
        "print(short_fruits)  # ['apple', 'mango', 'grape', 'pear']"
      ],
      "metadata": {
        "colab": {
          "base_uri": "https://localhost:8080/"
        },
        "id": "RcPm8lnfIKzN",
        "outputId": "4202590a-9e8e-4485-8561-c308c8851d0a"
      },
      "execution_count": null,
      "outputs": [
        {
          "output_type": "stream",
          "name": "stdout",
          "text": [
            "['apple', 'mango', 'grape', 'pear']\n"
          ]
        }
      ]
    },
    {
      "cell_type": "markdown",
      "source": [
        "**リストからの要素の削除**"
      ],
      "metadata": {
        "id": "H8PBDyMIIYeJ"
      }
    },
    {
      "cell_type": "markdown",
      "source": [
        "del ステートメントを使用してリストから要素を削除することもできます。これにより、指定されたインデックスの要素がリストから削除されます。"
      ],
      "metadata": {
        "id": "MIXkNYjtIbV3"
      }
    },
    {
      "cell_type": "code",
      "source": [
        "# 特定のインデックスの要素を削除\n",
        "del fruits[1]  # 'banana' を削除\n",
        "print(fruits)  # ['apple', 'cherry', 'mango', 'grape', 'pear']"
      ],
      "metadata": {
        "colab": {
          "base_uri": "https://localhost:8080/"
        },
        "id": "tNOCBOjdIKwy",
        "outputId": "7bf06dda-264b-4d00-96f3-ad3b4cb3a0f1"
      },
      "execution_count": null,
      "outputs": [
        {
          "output_type": "stream",
          "name": "stdout",
          "text": [
            "['apple', 'cherry', 'mango', 'grape', 'pear']\n"
          ]
        }
      ]
    },
    {
      "cell_type": "markdown",
      "source": [
        "**リストの反復処理**"
      ],
      "metadata": {
        "id": "bWZ7LwnEIfiF"
      }
    },
    {
      "cell_type": "markdown",
      "source": [
        "for ループを使用してリストの各要素に対して反復処理を行うことができます。これはリストの要素を順に処理するのに最適な方法です。"
      ],
      "metadata": {
        "id": "9Rg7jRFhIi2n"
      }
    },
    {
      "cell_type": "code",
      "source": [
        "# リストの各要素を順に処理\n",
        "for fruit in fruits:\n",
        "    print(fruit)"
      ],
      "metadata": {
        "id": "hHhsREYPGzpX"
      },
      "execution_count": null,
      "outputs": []
    },
    {
      "cell_type": "code",
      "source": [],
      "metadata": {
        "id": "2CI-EZurGznR"
      },
      "execution_count": null,
      "outputs": []
    }
  ]
}